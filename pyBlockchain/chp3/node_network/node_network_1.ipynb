{
 "cells": [
  {
   "cell_type": "markdown",
   "metadata": {},
   "source": [
    "## 5.1 여러 노드 운영을 위한 추가 사항 (node_network_1.ipynb)"
   ]
  },
  {
   "cell_type": "code",
   "execution_count": 1,
   "metadata": {},
   "outputs": [
    {
     "name": "stdout",
     "output_type": "stream",
     "text": [
      " * Serving Flask app '__main__'\n",
      " * Debug mode: off\n"
     ]
    },
    {
     "name": "stderr",
     "output_type": "stream",
     "text": [
      "WARNING: This is a development server. Do not use it in a production deployment. Use a production WSGI server instead.\n",
      " * Running on http://localhost:5000\n",
      "Press CTRL+C to quit\n",
      "127.0.0.1 - - [26/Sep/2024 18:36:53] \"GET /chain HTTP/1.1\" 200 -\n"
     ]
    },
    {
     "name": "stdout",
     "output_type": "stream",
     "text": [
      "chain info requested!!\n",
      "register nodes!!! {'nodes': 'http://localhost:5001'}\n",
      "MY NODE INFO  http://localhost:5000\n"
     ]
    },
    {
     "name": "stderr",
     "output_type": "stream",
     "text": [
      "127.0.0.1 - - [26/Sep/2024 18:37:03] \"POST /nodes/register HTTP/1.1\" 201 -\n",
      "127.0.0.1 - - [26/Sep/2024 18:37:03] \"POST /nodes/register HTTP/1.1\" 201 -\n"
     ]
    },
    {
     "name": "stdout",
     "output_type": "stream",
     "text": [
      "register nodes!!! {'nodes': 'http://localhost:5001'}\n",
      "Node already registered\n",
      "register nodes!!! {'nodes': 'http://localhost:5002'}\n",
      "MY NODE INFO  http://localhost:5000\n"
     ]
    },
    {
     "name": "stderr",
     "output_type": "stream",
     "text": [
      "127.0.0.1 - - [26/Sep/2024 18:37:09] \"POST /nodes/register HTTP/1.1\" 201 -\n"
     ]
    },
    {
     "name": "stdout",
     "output_type": "stream",
     "text": [
      "register nodes!!! {'nodes': 'http://localhost:5002'}\n",
      "Node already registered\n",
      "add_node :  localhost:5001\n"
     ]
    },
    {
     "name": "stderr",
     "output_type": "stream",
     "text": [
      "127.0.0.1 - - [26/Sep/2024 18:37:18] \"POST /nodes/register HTTP/1.1\" 201 -\n"
     ]
    },
    {
     "name": "stdout",
     "output_type": "stream",
     "text": [
      "register nodes!!! {'nodes': 'http://localhost:5001'}\n",
      "Node already registered\n"
     ]
    },
    {
     "name": "stderr",
     "output_type": "stream",
     "text": [
      "127.0.0.1 - - [26/Sep/2024 18:37:20] \"POST /nodes/register HTTP/1.1\" 201 -\n",
      "127.0.0.1 - - [26/Sep/2024 18:37:20] \"POST /nodes/register HTTP/1.1\" 201 -\n"
     ]
    },
    {
     "name": "stdout",
     "output_type": "stream",
     "text": [
      "register nodes!!! {'nodes': 'http://localhost:5002'}\n",
      "Node already registered\n",
      "transactions_new!!! :  {'sender': 'test_from', 'recipient': 'test_to', 'amount': 3}\n",
      "share transactoin to >>    http://localhost:5002\n"
     ]
    },
    {
     "name": "stderr",
     "output_type": "stream",
     "text": [
      "127.0.0.1 - - [26/Sep/2024 18:37:26] \"POST /transactions/new HTTP/1.1\" 201 -\n"
     ]
    },
    {
     "name": "stdout",
     "output_type": "stream",
     "text": [
      "share transactoin to >>    http://localhost:5001\n"
     ]
    },
    {
     "name": "stderr",
     "output_type": "stream",
     "text": [
      "127.0.0.1 - - [26/Sep/2024 18:41:42] \"GET /chain HTTP/1.1\" 200 -\n"
     ]
    },
    {
     "name": "stdout",
     "output_type": "stream",
     "text": [
      "chain info requested!!\n"
     ]
    },
    {
     "name": "stderr",
     "output_type": "stream",
     "text": [
      "127.0.0.1 - - [26/Sep/2024 18:42:40] \"GET /chain HTTP/1.1\" 200 -\n"
     ]
    },
    {
     "name": "stdout",
     "output_type": "stream",
     "text": [
      "chain info requested!!\n",
      "다른 노드에서 요청이 온 블록, 검증 시작\n",
      "다른 노드에서 요청이 온 블록, 검증결과 정상!!!!!\n",
      "{'index': 1, 'nonce': 100, 'previous_hash': 1, 'timestamp': 1727343401.2482336, 'transactions': []}\n",
      "{'index': 2, 'nonce': -411542, 'previous_hash': '6ec7d5703a22bf0f91419c539741e321d5eda9a817f1f4e187e627bfb1e2bee8', 'timestamp': 1727343754.4914331, 'transactions': [{'amount': 3, 'recipient': 'test_to', 'sender': 'test_from', 'timestamp': 1727343444.3372748}, {'amount': 0.1, 'recipient': 'node_5002', 'sender': 'master', 'timestamp': 1727343754.4914331}]}\n",
      "\n",
      "--------\n",
      "\n"
     ]
    },
    {
     "name": "stderr",
     "output_type": "stream",
     "text": [
      "127.0.0.1 - - [26/Sep/2024 18:42:50] \"GET /nodes/resolve HTTP/1.1\" 200 -\n",
      "127.0.0.1 - - [26/Sep/2024 18:44:09] \"GET /chain HTTP/1.1\" 200 -\n"
     ]
    },
    {
     "name": "stdout",
     "output_type": "stream",
     "text": [
      "chain info requested!!\n"
     ]
    },
    {
     "name": "stderr",
     "output_type": "stream",
     "text": [
      "127.0.0.1 - - [26/Sep/2024 18:44:44] \"GET /chain HTTP/1.1\" 200 -\n"
     ]
    },
    {
     "name": "stdout",
     "output_type": "stream",
     "text": [
      "chain info requested!!\n"
     ]
    },
    {
     "name": "stderr",
     "output_type": "stream",
     "text": [
      "127.0.0.1 - - [26/Sep/2024 18:46:39] \"GET /chain HTTP/1.1\" 200 -\n"
     ]
    },
    {
     "name": "stdout",
     "output_type": "stream",
     "text": [
      "chain info requested!!\n",
      "transactions_new!!! :  {'sender': '37efaec7feed770b007cf6c0c0ffbf306b1410cd5cdef23bd89dcb3db617e4d4', 'recipient': 'e770b253759b7f653f3d72317e9392bb55b7eeb6c3824fa1b2c82de5cbe3e685', 'amount': 198}\n",
      "share transactoin to >>    http://localhost:5002\n"
     ]
    },
    {
     "name": "stderr",
     "output_type": "stream",
     "text": [
      "127.0.0.1 - - [26/Sep/2024 18:47:57] \"POST /transactions/new HTTP/1.1\" 201 -\n"
     ]
    },
    {
     "name": "stdout",
     "output_type": "stream",
     "text": [
      "share transactoin to >>    http://localhost:5001\n",
      "MINING STARTED\n",
      "final+proof :  410487\n",
      "MINING FINISHED\n"
     ]
    },
    {
     "name": "stderr",
     "output_type": "stream",
     "text": [
      "127.0.0.1 - - [26/Sep/2024 18:48:04] \"GET /chain HTTP/1.1\" 200 -\n"
     ]
    },
    {
     "name": "stdout",
     "output_type": "stream",
     "text": [
      "chain info requested!!\n"
     ]
    },
    {
     "name": "stderr",
     "output_type": "stream",
     "text": [
      "127.0.0.1 - - [26/Sep/2024 18:48:08] \"GET /chain HTTP/1.1\" 200 -\n"
     ]
    },
    {
     "name": "stdout",
     "output_type": "stream",
     "text": [
      "chain info requested!!\n"
     ]
    },
    {
     "name": "stderr",
     "output_type": "stream",
     "text": [
      "127.0.0.1 - - [26/Sep/2024 18:48:12] \"GET /chain HTTP/1.1\" 200 -\n"
     ]
    },
    {
     "name": "stdout",
     "output_type": "stream",
     "text": [
      "chain info requested!!\n"
     ]
    },
    {
     "name": "stderr",
     "output_type": "stream",
     "text": [
      "127.0.0.1 - - [26/Sep/2024 18:48:14] \"GET /chain HTTP/1.1\" 200 -\n"
     ]
    },
    {
     "name": "stdout",
     "output_type": "stream",
     "text": [
      "chain info requested!!\n"
     ]
    },
    {
     "name": "stderr",
     "output_type": "stream",
     "text": [
      "127.0.0.1 - - [26/Sep/2024 18:48:16] \"GET /mine HTTP/1.1\" 200 -\n"
     ]
    },
    {
     "name": "stdout",
     "output_type": "stream",
     "text": [
      "transactions_new!!! :  {'sender': '989436753419e46c506338a4e9ca992b47839c291d2e53f4279915773e2332ed', 'recipient': '91d3be9711dd918748d33ee8fc0c6ceaea73e6e5baf76b9b6eeddf924707d178', 'amount': 151}\n",
      "share transactoin to >>    http://localhost:5002\n"
     ]
    },
    {
     "name": "stderr",
     "output_type": "stream",
     "text": [
      "127.0.0.1 - - [26/Sep/2024 18:48:22] \"POST /transactions/new HTTP/1.1\" 201 -\n"
     ]
    },
    {
     "name": "stdout",
     "output_type": "stream",
     "text": [
      "share transactoin to >>    http://localhost:5001\n",
      "MINING STARTED\n",
      "final+proof :  454639\n",
      "MINING FINISHED\n"
     ]
    },
    {
     "name": "stderr",
     "output_type": "stream",
     "text": [
      "127.0.0.1 - - [26/Sep/2024 18:48:28] \"GET /chain HTTP/1.1\" 200 -\n"
     ]
    },
    {
     "name": "stdout",
     "output_type": "stream",
     "text": [
      "chain info requested!!\n"
     ]
    },
    {
     "name": "stderr",
     "output_type": "stream",
     "text": [
      "127.0.0.1 - - [26/Sep/2024 18:48:32] \"GET /chain HTTP/1.1\" 200 -\n"
     ]
    },
    {
     "name": "stdout",
     "output_type": "stream",
     "text": [
      "chain info requested!!\n"
     ]
    },
    {
     "name": "stderr",
     "output_type": "stream",
     "text": [
      "127.0.0.1 - - [26/Sep/2024 18:48:36] \"GET /chain HTTP/1.1\" 200 -\n"
     ]
    },
    {
     "name": "stdout",
     "output_type": "stream",
     "text": [
      "chain info requested!!\n"
     ]
    },
    {
     "name": "stderr",
     "output_type": "stream",
     "text": [
      "127.0.0.1 - - [26/Sep/2024 18:48:38] \"GET /chain HTTP/1.1\" 200 -\n"
     ]
    },
    {
     "name": "stdout",
     "output_type": "stream",
     "text": [
      "chain info requested!!\n"
     ]
    },
    {
     "name": "stderr",
     "output_type": "stream",
     "text": [
      "127.0.0.1 - - [26/Sep/2024 18:48:41] \"GET /mine HTTP/1.1\" 200 -\n"
     ]
    },
    {
     "name": "stdout",
     "output_type": "stream",
     "text": [
      "transactions_new!!! :  {'sender': '8d1895d735ca50045a9a564191eca778d0de266e5ee5fb040849380805a0cf3d', 'recipient': '9daa98ce3a24c2264ed088bb0d65b398e9967e8d16bb6e31467c1fd3a0cd9584', 'amount': 132}\n",
      "share transactoin to >>    http://localhost:5002\n"
     ]
    },
    {
     "name": "stderr",
     "output_type": "stream",
     "text": [
      "127.0.0.1 - - [26/Sep/2024 18:48:47] \"POST /transactions/new HTTP/1.1\" 201 -\n"
     ]
    },
    {
     "name": "stdout",
     "output_type": "stream",
     "text": [
      "share transactoin to >>    http://localhost:5001\n",
      "transactions_new!!! :  {'sender': '67c2626a09e5cf7453f59d2d332fee420cbaf53f023b1112b78a217539ab3a89', 'recipient': 'f757bb435f556e40259f0a79889e10145dbc4dd1a1f681c292bf783a85f21799', 'amount': 35}\n",
      "share transactoin to >>    http://localhost:5002\n"
     ]
    },
    {
     "name": "stderr",
     "output_type": "stream",
     "text": [
      "127.0.0.1 - - [26/Sep/2024 18:48:54] \"POST /transactions/new HTTP/1.1\" 201 -\n"
     ]
    },
    {
     "name": "stdout",
     "output_type": "stream",
     "text": [
      "share transactoin to >>    http://localhost:5001\n",
      "transactions_new!!! :  {'sender': 'e64dfaa81efcf596adf4d043107d69dc489c751db7645d72195139189401b364', 'recipient': '9e3bb57b68b7b0ac801507997c41fe974cd8fa3fc56a57b4d7f48b32d87f39a7', 'amount': 164}\n",
      "share transactoin to >>    http://localhost:5002\n"
     ]
    },
    {
     "name": "stderr",
     "output_type": "stream",
     "text": [
      "127.0.0.1 - - [26/Sep/2024 18:49:01] \"POST /transactions/new HTTP/1.1\" 201 -\n"
     ]
    },
    {
     "name": "stdout",
     "output_type": "stream",
     "text": [
      "share transactoin to >>    http://localhost:5001\n",
      "transactions_new!!! :  {'sender': 'ef3195724b5f047e8c773e9207fdb2e34b6db4accdc8486cac54d76c0b509d52', 'recipient': '4874d8eb8a6fb3192faf48cc0bb608aebdba8d4a236914096a9ea5656f1ba852', 'amount': 66}\n",
      "share transactoin to >>    http://localhost:5002\n"
     ]
    },
    {
     "name": "stderr",
     "output_type": "stream",
     "text": [
      "127.0.0.1 - - [26/Sep/2024 18:49:07] \"POST /transactions/new HTTP/1.1\" 201 -\n"
     ]
    },
    {
     "name": "stdout",
     "output_type": "stream",
     "text": [
      "share transactoin to >>    http://localhost:5001\n",
      "transactions_new!!! :  {'sender': '0bf5f896544da6d0c5943d37da287a49065759bb67ba62f2719ca12cf2be9fe8', 'recipient': '122961871d9f94be9a62259af5decbdebd96347b4ce91d4fb5fbf26e57a1a7d2', 'amount': 50}\n",
      "share transactoin to >>    http://localhost:5002\n"
     ]
    },
    {
     "name": "stderr",
     "output_type": "stream",
     "text": [
      "127.0.0.1 - - [26/Sep/2024 18:49:13] \"POST /transactions/new HTTP/1.1\" 201 -\n"
     ]
    },
    {
     "name": "stdout",
     "output_type": "stream",
     "text": [
      "share transactoin to >>    http://localhost:5001\n",
      "MINING STARTED\n",
      "final+proof :  -56735\n",
      "MINING FINISHED\n"
     ]
    },
    {
     "name": "stderr",
     "output_type": "stream",
     "text": [
      "127.0.0.1 - - [26/Sep/2024 18:49:19] \"GET /chain HTTP/1.1\" 200 -\n"
     ]
    },
    {
     "name": "stdout",
     "output_type": "stream",
     "text": [
      "chain info requested!!\n"
     ]
    },
    {
     "name": "stderr",
     "output_type": "stream",
     "text": [
      "127.0.0.1 - - [26/Sep/2024 18:49:23] \"GET /chain HTTP/1.1\" 200 -\n"
     ]
    },
    {
     "name": "stdout",
     "output_type": "stream",
     "text": [
      "chain info requested!!\n"
     ]
    },
    {
     "name": "stderr",
     "output_type": "stream",
     "text": [
      "127.0.0.1 - - [26/Sep/2024 18:49:27] \"GET /chain HTTP/1.1\" 200 -\n"
     ]
    },
    {
     "name": "stdout",
     "output_type": "stream",
     "text": [
      "chain info requested!!\n"
     ]
    },
    {
     "name": "stderr",
     "output_type": "stream",
     "text": [
      "127.0.0.1 - - [26/Sep/2024 18:49:29] \"GET /chain HTTP/1.1\" 200 -\n"
     ]
    },
    {
     "name": "stdout",
     "output_type": "stream",
     "text": [
      "chain info requested!!\n"
     ]
    },
    {
     "name": "stderr",
     "output_type": "stream",
     "text": [
      "127.0.0.1 - - [26/Sep/2024 18:49:31] \"GET /mine HTTP/1.1\" 200 -\n"
     ]
    },
    {
     "name": "stdout",
     "output_type": "stream",
     "text": [
      "transactions_new!!! :  {'sender': 'cc23aa7f54460bed8e190dea9ee2f6e56ab2dc8756e87704bf158c2df4531aa8', 'recipient': '6a91389bf293538f8bfd1747ffc38730176f9e72e8ed7004fabc8cd25e69df6b', 'amount': 167}\n",
      "share transactoin to >>    http://localhost:5002\n"
     ]
    },
    {
     "name": "stderr",
     "output_type": "stream",
     "text": [
      "127.0.0.1 - - [26/Sep/2024 18:49:37] \"POST /transactions/new HTTP/1.1\" 201 -\n"
     ]
    },
    {
     "name": "stdout",
     "output_type": "stream",
     "text": [
      "share transactoin to >>    http://localhost:5001\n",
      "transactions_new!!! :  {'sender': 'dd992cadace21afab56ffd7409f7dd892e24e9acd73e83cd02c574bc0b813a28', 'recipient': '5e6e28537d535ba8b7dd25bc42f0bae0d439d4fc29afe473f3b738778906dadb', 'amount': 77}\n",
      "share transactoin to >>    http://localhost:5002\n"
     ]
    },
    {
     "name": "stderr",
     "output_type": "stream",
     "text": [
      "127.0.0.1 - - [26/Sep/2024 18:49:43] \"POST /transactions/new HTTP/1.1\" 201 -\n"
     ]
    },
    {
     "name": "stdout",
     "output_type": "stream",
     "text": [
      "share transactoin to >>    http://localhost:5001\n",
      "transactions_new!!! :  {'sender': '2645b98ce9d6e36960b2ddcaffd52e34d43009eebf4221266b84a1023db8ae54', 'recipient': 'fd65ddd3504ba0bea2d154a7e466867a101c0d026890d591b95e3fbd10725ee3', 'amount': 78}\n",
      "share transactoin to >>    http://localhost:5002\n"
     ]
    },
    {
     "name": "stderr",
     "output_type": "stream",
     "text": [
      "127.0.0.1 - - [26/Sep/2024 18:49:50] \"POST /transactions/new HTTP/1.1\" 201 -\n"
     ]
    },
    {
     "name": "stdout",
     "output_type": "stream",
     "text": [
      "share transactoin to >>    http://localhost:5001\n",
      "MINING STARTED\n",
      "final+proof :  652873\n",
      "MINING FINISHED\n"
     ]
    },
    {
     "name": "stderr",
     "output_type": "stream",
     "text": [
      "127.0.0.1 - - [26/Sep/2024 18:49:56] \"GET /chain HTTP/1.1\" 200 -\n"
     ]
    },
    {
     "name": "stdout",
     "output_type": "stream",
     "text": [
      "chain info requested!!\n"
     ]
    },
    {
     "name": "stderr",
     "output_type": "stream",
     "text": [
      "127.0.0.1 - - [26/Sep/2024 18:50:00] \"GET /chain HTTP/1.1\" 200 -\n"
     ]
    },
    {
     "name": "stdout",
     "output_type": "stream",
     "text": [
      "chain info requested!!\n"
     ]
    },
    {
     "name": "stderr",
     "output_type": "stream",
     "text": [
      "127.0.0.1 - - [26/Sep/2024 18:50:04] \"GET /chain HTTP/1.1\" 200 -\n"
     ]
    },
    {
     "name": "stdout",
     "output_type": "stream",
     "text": [
      "chain info requested!!\n"
     ]
    },
    {
     "name": "stderr",
     "output_type": "stream",
     "text": [
      "127.0.0.1 - - [26/Sep/2024 18:50:06] \"GET /chain HTTP/1.1\" 200 -\n"
     ]
    },
    {
     "name": "stdout",
     "output_type": "stream",
     "text": [
      "chain info requested!!\n"
     ]
    },
    {
     "name": "stderr",
     "output_type": "stream",
     "text": [
      "127.0.0.1 - - [26/Sep/2024 18:50:08] \"GET /mine HTTP/1.1\" 200 -\n"
     ]
    },
    {
     "name": "stdout",
     "output_type": "stream",
     "text": [
      "transactions_new!!! :  {'sender': '0cfa9d00b78e91fbf21e79964f091202d76f4fb25830490af2c56575f9364529', 'recipient': '974668691e09c5a6dad917f1ccaa3f01ade0badf6e59f4a6d54d572606e2eda0', 'amount': 142}\n",
      "share transactoin to >>    http://localhost:5002\n"
     ]
    },
    {
     "name": "stderr",
     "output_type": "stream",
     "text": [
      "127.0.0.1 - - [26/Sep/2024 18:50:14] \"POST /transactions/new HTTP/1.1\" 201 -\n"
     ]
    },
    {
     "name": "stdout",
     "output_type": "stream",
     "text": [
      "share transactoin to >>    http://localhost:5001\n",
      "transactions_new!!! :  {'sender': 'f298962f0ed08495b28111162cef4b19b555dd8c1885dbdce9ccebafec8b2e42', 'recipient': '990ff0d6681926f50f55b73f434e1720cd7ca0dbc3c89e99b2f95382e0011756', 'amount': 52}\n",
      "share transactoin to >>    http://localhost:5002\n"
     ]
    },
    {
     "name": "stderr",
     "output_type": "stream",
     "text": [
      "127.0.0.1 - - [26/Sep/2024 18:50:20] \"POST /transactions/new HTTP/1.1\" 201 -\n"
     ]
    },
    {
     "name": "stdout",
     "output_type": "stream",
     "text": [
      "share transactoin to >>    http://localhost:5001\n",
      "transactions_new!!! :  {'sender': '48eb17359fc30be8434cd50076e935f91b9079259efde61c29cd97f0b51ef189', 'recipient': 'b3579bf7a2ee9543ef4d3ec678173a0c0cb33b10295f291e3f096e98dfe06bab', 'amount': 130}\n",
      "share transactoin to >>    http://localhost:5002\n"
     ]
    },
    {
     "name": "stderr",
     "output_type": "stream",
     "text": [
      "127.0.0.1 - - [26/Sep/2024 18:50:27] \"POST /transactions/new HTTP/1.1\" 201 -\n"
     ]
    },
    {
     "name": "stdout",
     "output_type": "stream",
     "text": [
      "share transactoin to >>    http://localhost:5001\n",
      "transactions_new!!! :  {'sender': '0f6ef22dc2204922df7d482623486326f703f875cae11f9098038fa81ec87f03', 'recipient': '5b6cefbd82c485f8ff75fbab827ce141a84e3494ce2c853b352c85687d2db9d6', 'amount': 81}\n",
      "share transactoin to >>    http://localhost:5002\n"
     ]
    },
    {
     "name": "stderr",
     "output_type": "stream",
     "text": [
      "127.0.0.1 - - [26/Sep/2024 18:50:33] \"POST /transactions/new HTTP/1.1\" 201 -\n"
     ]
    },
    {
     "name": "stdout",
     "output_type": "stream",
     "text": [
      "share transactoin to >>    http://localhost:5001\n",
      "MINING STARTED\n",
      "final+proof :  -21989\n",
      "MINING FINISHED\n"
     ]
    },
    {
     "name": "stderr",
     "output_type": "stream",
     "text": [
      "127.0.0.1 - - [26/Sep/2024 18:50:39] \"GET /chain HTTP/1.1\" 200 -\n"
     ]
    },
    {
     "name": "stdout",
     "output_type": "stream",
     "text": [
      "chain info requested!!\n"
     ]
    },
    {
     "name": "stderr",
     "output_type": "stream",
     "text": [
      "127.0.0.1 - - [26/Sep/2024 18:50:43] \"GET /chain HTTP/1.1\" 200 -\n"
     ]
    },
    {
     "name": "stdout",
     "output_type": "stream",
     "text": [
      "chain info requested!!\n"
     ]
    },
    {
     "name": "stderr",
     "output_type": "stream",
     "text": [
      "127.0.0.1 - - [26/Sep/2024 18:50:47] \"GET /chain HTTP/1.1\" 200 -\n"
     ]
    },
    {
     "name": "stdout",
     "output_type": "stream",
     "text": [
      "chain info requested!!\n"
     ]
    },
    {
     "name": "stderr",
     "output_type": "stream",
     "text": [
      "127.0.0.1 - - [26/Sep/2024 18:50:49] \"GET /chain HTTP/1.1\" 200 -\n"
     ]
    },
    {
     "name": "stdout",
     "output_type": "stream",
     "text": [
      "chain info requested!!\n"
     ]
    },
    {
     "name": "stderr",
     "output_type": "stream",
     "text": [
      "127.0.0.1 - - [26/Sep/2024 18:50:51] \"GET /mine HTTP/1.1\" 200 -\n"
     ]
    },
    {
     "name": "stdout",
     "output_type": "stream",
     "text": [
      "transactions_new!!! :  {'sender': '4242ffbd4feb2e1c87ca13421a9a2440507da0daf66d378b401808b154386d0e', 'recipient': '2f298f418a8b01dffbf28a2a2a198774bf91d6d25214d9553f852136ff169ed6', 'amount': 110}\n",
      "share transactoin to >>    http://localhost:5002\n"
     ]
    },
    {
     "name": "stderr",
     "output_type": "stream",
     "text": [
      "127.0.0.1 - - [26/Sep/2024 18:51:43] \"POST /transactions/new HTTP/1.1\" 201 -\n"
     ]
    },
    {
     "name": "stdout",
     "output_type": "stream",
     "text": [
      "share transactoin to >>    http://localhost:5001\n",
      "transactions_new!!! :  {'sender': 'c5ea45d255a440bc7d1e8ad9d3b21de8cd1c71fd2f52fe47550b0504bf9aa461', 'recipient': '14ecf57f2e1c1093e080076e334c1927623d291883160c2326505a9909fbe49e', 'amount': 75}\n",
      "share transactoin to >>    http://localhost:5002\n"
     ]
    },
    {
     "name": "stderr",
     "output_type": "stream",
     "text": [
      "127.0.0.1 - - [26/Sep/2024 18:51:49] \"POST /transactions/new HTTP/1.1\" 201 -\n"
     ]
    },
    {
     "name": "stdout",
     "output_type": "stream",
     "text": [
      "share transactoin to >>    http://localhost:5001\n",
      "MINING STARTED\n",
      "final+proof :  -449166\n",
      "MINING FINISHED\n"
     ]
    },
    {
     "name": "stderr",
     "output_type": "stream",
     "text": [
      "127.0.0.1 - - [26/Sep/2024 18:51:56] \"GET /chain HTTP/1.1\" 200 -\n"
     ]
    },
    {
     "name": "stdout",
     "output_type": "stream",
     "text": [
      "chain info requested!!\n"
     ]
    },
    {
     "name": "stderr",
     "output_type": "stream",
     "text": [
      "127.0.0.1 - - [26/Sep/2024 18:52:00] \"GET /chain HTTP/1.1\" 200 -\n"
     ]
    },
    {
     "name": "stdout",
     "output_type": "stream",
     "text": [
      "chain info requested!!\n"
     ]
    },
    {
     "name": "stderr",
     "output_type": "stream",
     "text": [
      "127.0.0.1 - - [26/Sep/2024 18:52:04] \"GET /chain HTTP/1.1\" 200 -\n"
     ]
    },
    {
     "name": "stdout",
     "output_type": "stream",
     "text": [
      "chain info requested!!\n"
     ]
    },
    {
     "name": "stderr",
     "output_type": "stream",
     "text": [
      "127.0.0.1 - - [26/Sep/2024 18:52:06] \"GET /chain HTTP/1.1\" 200 -\n"
     ]
    },
    {
     "name": "stdout",
     "output_type": "stream",
     "text": [
      "chain info requested!!\n"
     ]
    },
    {
     "name": "stderr",
     "output_type": "stream",
     "text": [
      "127.0.0.1 - - [26/Sep/2024 18:52:08] \"GET /mine HTTP/1.1\" 200 -\n"
     ]
    },
    {
     "name": "stdout",
     "output_type": "stream",
     "text": [
      "transactions_new!!! :  {'sender': '8c649730f8e20808d211263a783b0e0749f75f5e04c7259703724e834674e450', 'recipient': 'bba05902dd51ecac9f9b9df0c65fd1d7a3ee04de6b437c6ffe52a9db88a37a37', 'amount': 32}\n",
      "share transactoin to >>    http://localhost:5002\n"
     ]
    },
    {
     "name": "stderr",
     "output_type": "stream",
     "text": [
      "127.0.0.1 - - [26/Sep/2024 18:52:14] \"POST /transactions/new HTTP/1.1\" 201 -\n"
     ]
    },
    {
     "name": "stdout",
     "output_type": "stream",
     "text": [
      "share transactoin to >>    http://localhost:5001\n",
      "transactions_new!!! :  {'sender': 'e6dff2507e2cded9b40679886cfb3d1efdf6c93e04429a15aa32bf7c42379014', 'recipient': 'bfed65e0ee3b331187d31bd503dcbad42f17bf749b37c34f64cf8bbc3007073c', 'amount': 70}\n",
      "share transactoin to >>    http://localhost:5002\n"
     ]
    },
    {
     "name": "stderr",
     "output_type": "stream",
     "text": [
      "127.0.0.1 - - [26/Sep/2024 18:52:20] \"POST /transactions/new HTTP/1.1\" 201 -\n"
     ]
    },
    {
     "name": "stdout",
     "output_type": "stream",
     "text": [
      "share transactoin to >>    http://localhost:5001\n",
      "transactions_new!!! :  {'sender': '6d43658c3319ec1b3b8f1c7f2b65c5710b8d93b78f1b4bcda6bb2410689b490d', 'recipient': '6ed378745ce22d2312d8e608e2f628ae274373031c9efcd6497c5916caa2ed76', 'amount': 142}\n",
      "share transactoin to >>    http://localhost:5002\n"
     ]
    },
    {
     "name": "stderr",
     "output_type": "stream",
     "text": [
      "127.0.0.1 - - [26/Sep/2024 18:52:26] \"POST /transactions/new HTTP/1.1\" 201 -\n"
     ]
    },
    {
     "name": "stdout",
     "output_type": "stream",
     "text": [
      "share transactoin to >>    http://localhost:5001\n",
      "MINING STARTED\n",
      "final+proof :  -494207\n",
      "MINING FINISHED\n"
     ]
    },
    {
     "name": "stderr",
     "output_type": "stream",
     "text": [
      "127.0.0.1 - - [26/Sep/2024 18:52:33] \"GET /chain HTTP/1.1\" 200 -\n"
     ]
    },
    {
     "name": "stdout",
     "output_type": "stream",
     "text": [
      "chain info requested!!\n"
     ]
    },
    {
     "name": "stderr",
     "output_type": "stream",
     "text": [
      "127.0.0.1 - - [26/Sep/2024 18:52:37] \"GET /chain HTTP/1.1\" 200 -\n"
     ]
    },
    {
     "name": "stdout",
     "output_type": "stream",
     "text": [
      "chain info requested!!\n"
     ]
    },
    {
     "name": "stderr",
     "output_type": "stream",
     "text": [
      "127.0.0.1 - - [26/Sep/2024 18:52:41] \"GET /chain HTTP/1.1\" 200 -\n"
     ]
    },
    {
     "name": "stdout",
     "output_type": "stream",
     "text": [
      "chain info requested!!\n"
     ]
    },
    {
     "name": "stderr",
     "output_type": "stream",
     "text": [
      "127.0.0.1 - - [26/Sep/2024 18:52:43] \"GET /chain HTTP/1.1\" 200 -\n"
     ]
    },
    {
     "name": "stdout",
     "output_type": "stream",
     "text": [
      "chain info requested!!\n"
     ]
    },
    {
     "name": "stderr",
     "output_type": "stream",
     "text": [
      "127.0.0.1 - - [26/Sep/2024 18:52:45] \"GET /mine HTTP/1.1\" 200 -\n"
     ]
    },
    {
     "name": "stdout",
     "output_type": "stream",
     "text": [
      "transactions_new!!! :  {'sender': 'b3a31985c0cc9dbe9485c4dc2ead7aba3b99f573d2cb35963ee944941197c927', 'recipient': '61e5047257bec79d2013f0df344d291e2ad9f959caca04cee011a4a06b03fdb6', 'amount': 51}\n",
      "share transactoin to >>    http://localhost:5002\n"
     ]
    },
    {
     "name": "stderr",
     "output_type": "stream",
     "text": [
      "127.0.0.1 - - [26/Sep/2024 18:52:51] \"POST /transactions/new HTTP/1.1\" 201 -\n"
     ]
    },
    {
     "name": "stdout",
     "output_type": "stream",
     "text": [
      "share transactoin to >>    http://localhost:5001\n",
      "transactions_new!!! :  {'sender': 'fc97b8a21558dde1a78ff859f1846a276db1ff4e1e192cbcc00791a24dcb1710', 'recipient': '2b5276239f8a24d6cc1a992d3a43eb3c947812a5961f9980badd833731d6f855', 'amount': 43}\n",
      "share transactoin to >>    http://localhost:5002\n"
     ]
    },
    {
     "name": "stderr",
     "output_type": "stream",
     "text": [
      "127.0.0.1 - - [26/Sep/2024 18:52:57] \"POST /transactions/new HTTP/1.1\" 201 -\n"
     ]
    },
    {
     "name": "stdout",
     "output_type": "stream",
     "text": [
      "share transactoin to >>    http://localhost:5001\n",
      "MINING STARTED\n",
      "final+proof :  -349990\n",
      "MINING FINISHED\n"
     ]
    },
    {
     "name": "stderr",
     "output_type": "stream",
     "text": [
      "127.0.0.1 - - [26/Sep/2024 18:53:03] \"GET /chain HTTP/1.1\" 200 -\n"
     ]
    },
    {
     "name": "stdout",
     "output_type": "stream",
     "text": [
      "chain info requested!!\n"
     ]
    },
    {
     "name": "stderr",
     "output_type": "stream",
     "text": [
      "127.0.0.1 - - [26/Sep/2024 18:53:07] \"GET /chain HTTP/1.1\" 200 -\n"
     ]
    },
    {
     "name": "stdout",
     "output_type": "stream",
     "text": [
      "chain info requested!!\n"
     ]
    },
    {
     "name": "stderr",
     "output_type": "stream",
     "text": [
      "127.0.0.1 - - [26/Sep/2024 18:53:11] \"GET /chain HTTP/1.1\" 200 -\n"
     ]
    },
    {
     "name": "stdout",
     "output_type": "stream",
     "text": [
      "chain info requested!!\n"
     ]
    },
    {
     "name": "stderr",
     "output_type": "stream",
     "text": [
      "127.0.0.1 - - [26/Sep/2024 18:53:13] \"GET /chain HTTP/1.1\" 200 -\n"
     ]
    },
    {
     "name": "stdout",
     "output_type": "stream",
     "text": [
      "chain info requested!!\n"
     ]
    },
    {
     "name": "stderr",
     "output_type": "stream",
     "text": [
      "127.0.0.1 - - [26/Sep/2024 18:53:16] \"GET /mine HTTP/1.1\" 200 -\n"
     ]
    },
    {
     "name": "stdout",
     "output_type": "stream",
     "text": [
      "transactions_new!!! :  {'sender': '62620c4487e028fb101634e061f1f1d2ad04c9231e438e8a21179ec01ba80144', 'recipient': 'd32fb5e7b4becf187a8af67e8f64e18968650756ff931f80801b56b68790a6ae', 'amount': 3}\n",
      "share transactoin to >>    http://localhost:5002\n"
     ]
    },
    {
     "name": "stderr",
     "output_type": "stream",
     "text": [
      "127.0.0.1 - - [26/Sep/2024 18:53:22] \"POST /transactions/new HTTP/1.1\" 201 -\n"
     ]
    },
    {
     "name": "stdout",
     "output_type": "stream",
     "text": [
      "share transactoin to >>    http://localhost:5001\n"
     ]
    },
    {
     "name": "stderr",
     "output_type": "stream",
     "text": [
      "127.0.0.1 - - [26/Sep/2024 18:53:34] \"GET /chain HTTP/1.1\" 200 -\n"
     ]
    },
    {
     "name": "stdout",
     "output_type": "stream",
     "text": [
      "chain info requested!!\n",
      "MINING STARTED\n",
      "final+proof :  -975822\n",
      "MINING FINISHED\n"
     ]
    },
    {
     "name": "stderr",
     "output_type": "stream",
     "text": [
      "127.0.0.1 - - [26/Sep/2024 18:53:53] \"GET /chain HTTP/1.1\" 200 -\n"
     ]
    },
    {
     "name": "stdout",
     "output_type": "stream",
     "text": [
      "chain info requested!!\n"
     ]
    },
    {
     "name": "stderr",
     "output_type": "stream",
     "text": [
      "127.0.0.1 - - [26/Sep/2024 18:53:57] \"GET /chain HTTP/1.1\" 200 -\n"
     ]
    },
    {
     "name": "stdout",
     "output_type": "stream",
     "text": [
      "chain info requested!!\n"
     ]
    },
    {
     "name": "stderr",
     "output_type": "stream",
     "text": [
      "127.0.0.1 - - [26/Sep/2024 18:54:01] \"GET /chain HTTP/1.1\" 200 -\n"
     ]
    },
    {
     "name": "stdout",
     "output_type": "stream",
     "text": [
      "chain info requested!!\n"
     ]
    },
    {
     "name": "stderr",
     "output_type": "stream",
     "text": [
      "127.0.0.1 - - [26/Sep/2024 18:54:03] \"GET /chain HTTP/1.1\" 200 -\n"
     ]
    },
    {
     "name": "stdout",
     "output_type": "stream",
     "text": [
      "chain info requested!!\n"
     ]
    },
    {
     "name": "stderr",
     "output_type": "stream",
     "text": [
      "127.0.0.1 - - [26/Sep/2024 18:54:05] \"GET /mine HTTP/1.1\" 200 -\n",
      "127.0.0.1 - - [26/Sep/2024 18:54:07] \"GET /chain HTTP/1.1\" 200 -\n"
     ]
    },
    {
     "name": "stdout",
     "output_type": "stream",
     "text": [
      "chain info requested!!\n"
     ]
    },
    {
     "name": "stderr",
     "output_type": "stream",
     "text": [
      "127.0.0.1 - - [26/Sep/2024 18:55:18] \"GET /chain HTTP/1.1\" 200 -\n"
     ]
    },
    {
     "name": "stdout",
     "output_type": "stream",
     "text": [
      "chain info requested!!\n"
     ]
    }
   ],
   "source": [
    "import hashlib \n",
    "import json\n",
    "from time import time\n",
    "import random\n",
    "import requests\n",
    "from flask import Flask, request, jsonify\n",
    "\n",
    "## Node network를 위해 추가로 import 되는 함수\n",
    "from urllib.parse import urlparse\n",
    "\n",
    "\n",
    "\n",
    "# Blockchain 객체 생성 \n",
    "class Blockchain(object):\n",
    "    \n",
    "    def __init__(self):\n",
    "        self.chain = []                                   # chain에 여러 block들 들어옴\n",
    "        self.current_transaction = []                     # 임시 transaction 넣어줌\n",
    "        self.nodes = set()                                # Node 목록을 보관\n",
    "        self.new_block(previous_hash=1, proof=100)        # genesis block 생성\n",
    "\n",
    "    @staticmethod\n",
    "    def hash(block):\n",
    "        block_string = json.dumps(block, sort_keys=True).encode() \n",
    "        return hashlib.sha256(block_string).hexdigest()   # hash 라이브러리로 sha256 사용\n",
    "    @property\n",
    "    def last_block(self):\n",
    "        return self.chain[-1]                             # 체인의 마지막 블록 가져오기!!\n",
    "\n",
    "    @staticmethod\n",
    "    def valid_proof(last_proof, proof):\n",
    "        guess = str(last_proof + proof).encode()          # 전 proof와 구할 proof 문자열 연결\n",
    "        guess_hash = hashlib.sha256(guess).hexdigest()    # 이 hash 값 저장\n",
    "        return guess_hash[:4] == \"0000\"                  # 앞 4자리가 0000 이면 True (알맞은 nonce값을 찾음)\n",
    "\n",
    "    def pow(self, last_proof):\n",
    "        proof = random.randint(-1000000,1000000)\n",
    "        while self.valid_proof(last_proof, proof) is False: # valid proof 함수 활용(아래 나옴), 맞을 때까지 반복적으로 검증\n",
    "            proof = random.randint(-1000000,1000000)\n",
    "        print(\"final+proof : \", proof)\n",
    "        return proof\n",
    "\n",
    "    def new_transaction(self, sender, recipient, amount):\n",
    "        self.current_transaction.append(\n",
    "            {\n",
    "                'sender' : sender, # 송신자\n",
    "                'recipient' : recipient, # 수신자\n",
    "                'amount' : amount, # 금액\n",
    "                'timestamp':time()\n",
    "            }\n",
    "        )\n",
    "        return self.last_block['index'] + 1   \n",
    "\n",
    "    def new_block(self, proof, previous_hash=None):\n",
    "        block = {\n",
    "            'index' : len(self.chain)+1,\n",
    "            'timestamp' : time(), # timestamp from 1970\n",
    "            'transactions' : self.current_transaction,\n",
    "            'nonce' : proof,\n",
    "            'previous_hash' : previous_hash or self.hash(self.chain[-1]),\n",
    "        }\n",
    "        self.current_transaction = []\n",
    "        self.chain.append(block)     \n",
    "        return block\n",
    "\n",
    "    def valid_chain(self, chain):\n",
    "        last_block = chain[0] \n",
    "        current_index = 1\n",
    "\n",
    "        while current_index < len(chain): \n",
    "            block = chain[current_index]\n",
    "            print('%s' % last_block)\n",
    "            print('%s' % block)\n",
    "            print(\"\\n--------\\n\")\n",
    "            if block['previous_hash'] != self.hash(last_block):\n",
    "                return False\n",
    "            last_block = block\n",
    "            current_index += 1\n",
    "        return True\n",
    "    \n",
    "    # 노드 등록\n",
    "    # 객체 내의 노드 리스트에 다른 노드 추가하기\n",
    "    def register_node(self, address):\n",
    "        parsed_url = urlparse(address)\n",
    "        self.nodes.add(parsed_url.netloc)\n",
    "\n",
    "    # 노드의 블록 유효성 검증\n",
    "    # 다른 블록과 데이터를 비교하며 최신 데이터로 업데이트\n",
    "    def resolve_conflicts(self):\n",
    "        neighbors = self.nodes      # 구동되는 노드들을 저장\n",
    "        new_block = None\n",
    "\n",
    "        max_length = len(self.chain)    # 내 블록의 길이 저장\n",
    "        for node in neighbors:\n",
    "            node_url = \"http://\" + str(node.replace(\"0.0.0.0\", \"localhost\")) + '/chain'     # url을 받아서 request 통해 체인 정보 저장\n",
    "            response = requests.get(node_url)\n",
    "            if response.status_code == 200: # 웹페이지와 정상적으로 교류가 되면 그 정보 저장\n",
    "                length = response.json()['length']\n",
    "                chain = response.json()['chain']\n",
    "                ## 다른 노드의 길이(length)가 내 노드의 길이(max_length)보다 길고 and 내 체인이 유효한 경우\n",
    "                if length > max_length and self.valid_chain(chain): # 긴 체인을 비교 >> 제일 긴 블록이 인정된다\n",
    "                    max_length = length\n",
    "                    ## 기존 노드의 정보보다 받은 정보가 최신이다. 전송받은 블록 정보를 new_block에 넣는다\n",
    "                    new_block = chain\n",
    "                ## 다른 노드의 길이(length)가 내 노드의 길이(max_length)보다 짧거나 내 체인이 유효하지 않은 경우\n",
    "                else:\n",
    "                    1==1    # 별도 작업 불필요\n",
    "                \n",
    "            if new_block != None:\n",
    "                self.chain = new_block  # 기존 블록 정보가 잘못된 것을 인정하고 검증된 블록 정보로 바꾼다. \n",
    "\n",
    "\n",
    "\n",
    "### Blockchain 객체 기반으로 노드 생성 ###\n",
    "# 노드 기본값 설정\n",
    "blockchain = Blockchain()\n",
    "my_ip = 'localhost'\n",
    "my_port = '5000'\n",
    "node_identifier = 'node_' + my_port\n",
    "mine_owner = 'master'\n",
    "mine_profit = 0.1\n",
    "\n",
    "app = Flask(__name__)\n",
    "\n",
    "\n",
    "@app.route('/chain', methods=['GET'])\n",
    "def full_chain():\n",
    "    print(\"chain info requested!!\")\n",
    "    response = {\n",
    "        'chain' : blockchain.chain, \n",
    "        'length' : len(blockchain.chain), \n",
    "    }\n",
    "    return jsonify(response), 200\n",
    "\n",
    "\n",
    "## 노드 연결을 위해 추가되는 함수 : 다른 Node 등록\n",
    "@app.route('/nodes/register', methods=['POST'])\n",
    "def register_nodes():\n",
    "    values = request.get_json() #json 형태로 보내면 노드가 저장됨\n",
    "    print(\"register nodes!!!\", values)\n",
    "    registering_node = values.get('nodes')\n",
    "    if registering_node == None:   # 요청된 node 값이 없다면!\n",
    "        return \"Error: Please supply a valid list of nodes\", 400\n",
    "\n",
    "    ## 요청받은 노드가 이미 등록된 노드와 중복인지 검사\n",
    "    ## 중복인 경우 \n",
    "    if registering_node.split('//')[1] in blockchain.nodes:\n",
    "        print(\"Node already registered\")    # 이미 등록된 노드입니다.\n",
    "        response = {\n",
    "            'message' : 'Already Registered Node',\n",
    "            'total_nodes' : list(blockchain.nodes),\n",
    "        }\n",
    "\n",
    "    ## 중복이 아니라면\n",
    "    else:\n",
    "        # 내 노드 리스트에 추가\n",
    "        blockchain.register_node(registering_node)\n",
    "\n",
    "        ## 이후 해당 노드에 내 정보 등록하기\n",
    "        headers = {'Content-Type': 'application/json; charset=utf-8'}\n",
    "        data = {\n",
    "            \"nodes\" : 'http://' + my_ip + \":\" + my_port\n",
    "        }\n",
    "        print(\"MY NODE INFO \", 'http://' + my_ip + \":\" + my_port)\n",
    "        requests.post(registering_node + \"/nodes/register\", headers=headers, data = json.dumps(data))\n",
    "\n",
    "        ## 이후 주변 노드들에도 새로운 노드가 등장함을 전파\n",
    "        for add_node in blockchain.nodes:\n",
    "            if add_node != registering_node.split(\"//\")[1]:\n",
    "                print('add_node : ', add_node)\n",
    "                ## 노드 등록하기 \n",
    "                headers = {'Content-Type' : 'application/json; charset=utf-8'}\n",
    "                data = {\n",
    "                    \"nodes\" : registering_node\n",
    "                }\n",
    "                requests.post('http://' + add_node + \"/nodes/register\", headers=headers, data = json.dumps(data))\n",
    "\n",
    "        response = {\n",
    "            'message' : 'New nodes have been added',\n",
    "            'total_nodes' : list(blockchain.nodes),\n",
    "        }\n",
    "\n",
    "    return jsonify(response), 201\n",
    "\n",
    "\n",
    "## 거래 내역 추가 함수 \n",
    "## 한 노드에 추가된 거래 내역을 저장한 후 다른 노드들에도 거래 내역이 추가된 것을 전파\n",
    "@app.route('/transactions/new', methods=['POST'])\n",
    "def new_transaction():\n",
    "    values = request.get_json()\n",
    "    print(\"transactions_new!!! : \", values)\n",
    "    required = ['sender', 'recipient', 'amount']\n",
    "\n",
    "    if not all(k in values for k in required):\n",
    "        return 'missing values', 400\n",
    "    \n",
    "    index = blockchain.new_transaction(values['sender'], values['recipient'], values['amount'])\n",
    "\n",
    "    response = {'message' : 'Transcation will be added to Block {%s}' % index}\n",
    "\n",
    "    ##################### 노드 연결을 위해 추가되는 부분\n",
    "    ## 본 노드에 받은 거래 내역 정보를 노드들에 다같이 업데이트해 준다. \n",
    "    if \"type\" not in values:    # 신규로 추가된 경우 type이라는 정보가 포함되어 있다. 해당 내용은 전파 필요\n",
    "        for node in blockchain.nodes:   # nodes에 저장된 모든 노드에 정보를 전달해야 한다.\n",
    "            headers = {'Content-Type' : 'application/json; charset=utf-8'}\n",
    "            data = {\n",
    "                \"sender\" : values['sender'],\n",
    "                \"recipient\" : values['recipient'],\n",
    "                \"amount\" : values['amount'],\n",
    "                \"type\" : \"sharing\"  # 전파이기에 sharing이라는 type이 꼭 필요하다. \n",
    "            }\n",
    "            requests.post(\"http://\" + node + \"/transactions/new\", headers=headers, data = json.dumps(data))\n",
    "            print(\"share transactoin to >>   \", \"http://\" + node)\n",
    "    return jsonify(response), 201\n",
    "\n",
    "## 채굴함수\n",
    "## 채굴이 완료된 경우에도 다른 노드들에 채굴이 완료되었다는 것을 전파해야 함\n",
    "@app.route('/mine', methods=['GET'])\n",
    "def mine():\n",
    "    print(\"MINING STARTED\")\n",
    "    last_block = blockchain.last_block\n",
    "    last_proof = last_block['nonce']\n",
    "    proof = blockchain.pow(last_proof)\n",
    "    blockchain.new_transaction(\n",
    "        sender = mine_owner,\n",
    "        recipient=node_identifier,\n",
    "        amount=mine_profit  # coinbase transaction\n",
    "    )\n",
    "    previous_hash = blockchain.hash(last_block)\n",
    "    block = blockchain.new_block(proof, previous_hash)\n",
    "    print(\"MINING FINISHED\")\n",
    "\n",
    "    ######################노드 연결을 위해 추가되는 부분\n",
    "    for node in blockchain.nodes:   # nodes에 연결된 모든 노드에 작업 증명(PoW)이 완료되었음을 전파한다\n",
    "        headers = {'Content-Type' : 'application/json; charset=utf-8'}\n",
    "        data = {\n",
    "            \"miner_node\" : 'http://' + my_ip + \":\" + my_port,\n",
    "            'new_nonce' : blockchain.last_block['nonce']\n",
    "        }\n",
    "\n",
    "        alarm_res = requests.get(\"http://\" + node + \"/nodes/resolve\", headers=headers, data = json.dumps(data))\n",
    "\n",
    "        if \"ERROR\" not in alarm_res.text:   # 전파받은 노드의 응답에 ERROR라는 이야기가 없으면 (나의 PoW가 인정받으면)\n",
    "            ## 정상 response\n",
    "            response = {\n",
    "                'message' : 'new block completed',\n",
    "                'index' : block['index'],\n",
    "                'transaction' : block['transactions'],\n",
    "                'nonce' : block['nonce'],\n",
    "                'previous_hash' : block['previous_hash']\n",
    "            }\n",
    "        else:   # 전파받은 노드의 응답에 이상이 있음을 알린다면?\n",
    "            ## 내 PoW가 이상이 있을 수 있기에 다시 PoW 진행!\n",
    "            block = blockchain.new_block(proof, previous_hash)\n",
    "    return jsonify(response), 200\n",
    "\n",
    "\n",
    "## 채굴 결과 검증 함수\n",
    "## 다른 노드에서 작업 증명(채굴)이 완료되었다고 전파되었을 때, 바로 그 내용을 받아들이면 X\n",
    "## 1) 다른 노드가 완료한 작업이 알맞는 작업이었는지,\n",
    "## 2) 다른 노드의 과거 데이터에 조작이 없었는지 검증\n",
    "@app.route('/nodes/resolve', methods=['GET'])\n",
    "def resolve():\n",
    "    requester_node_info = request.get_json()\n",
    "    required = ['miner_node']   # 해당 데이터가 존재해야 함\n",
    "    # 데이터가 없으면 에러를 띄움\n",
    "    if not all(k in requester_node_info for k in required):\n",
    "        return 'missing values', 400\n",
    "    \n",
    "    ## 그전에 우선 previous에서 바뀐 것이 있는지 점검하자!!\n",
    "    my_previous_hash = blockchain.last_block['previous_hash']\n",
    "    my_previous_hash\n",
    "\n",
    "    last_proof = blockchain.last_block['nonce']\n",
    "\n",
    "    headers = {'Content-Type' : 'application/json; charset=utf-8'}\n",
    "    miner_chain_info = requests.get(requester_node_info['miner_node'] + \"/chain\", headers=headers)\n",
    "\n",
    "    # 초기 블록은 과거 이력 변조 내역을 확인할 필요가 없다. \n",
    "    print(\"다른 노드에서 요청이 온 블록, 검증 시작\")\n",
    "    new_block_previous_hash = json.loads(miner_chain_info.text)['chain'][-2]['previous_hash']\n",
    "    # 내 노드의 전 해시와 새로 만든 노드의 전 해시가 같을 때!!! >> 정상\n",
    "    if my_previous_hash == new_block_previous_hash and \\\n",
    "        hashlib.sha256(str(last_proof + int(requester_node_info['new_nonce'])).encode()).hexdigest()[:4] == \"0000\":\n",
    "        # 정말 PoW의 조건을 만족시켰을까? 검증하기\n",
    "        print(\"다른 노드에서 요청이 온 블록, 검증결과 정상!!!!!\")\n",
    "\n",
    "        replaced = blockchain.resolve_conflicts() # 결과값 : True False / True이면 내 블록의 길이가 짧아 대체되어야 한다. \n",
    "\n",
    "        # 체인 변경 알림 메시지\n",
    "        if replaced == True:\n",
    "            ## 내 체인이 짧아서 대체되어야 함\n",
    "            print(\"REPLACED length : \", len(blockchain.chain))\n",
    "            response = {\n",
    "                'message' : 'Our chain was replaced >> ' + my_ip + \":\" + my_port,\n",
    "                'new_chain' : blockchain.chain\n",
    "            }\n",
    "        else :\n",
    "            ## 내 체인이 제일 길어서 권위가 있음\n",
    "            response = {\n",
    "                'message' : 'Our chain is authoritative',\n",
    "                'chain' : blockchain.chain\n",
    "            }\n",
    "    \n",
    "    # 아니면 무엇인가 과거 데이터가 바뀐 것이다!!\n",
    "    else :\n",
    "        print(\"다른 노드에서 요청이 온 블록, 검증결과 이상발생!!!!!!!!\")\n",
    "        response = {\n",
    "            'message' : 'Our chain is authoritative >> ' + my_ip + \":\" + my_port,\n",
    "            'chain' : blockchain.chain\n",
    "        }\n",
    "\n",
    "    return jsonify(response), 200\n",
    "\n",
    "if __name__ == '__main__':\n",
    "    app.run(host=my_ip, port=my_port)\n"
   ]
  }
 ],
 "metadata": {
  "kernelspec": {
   "display_name": ".venv",
   "language": "python",
   "name": "python3"
  },
  "language_info": {
   "codemirror_mode": {
    "name": "ipython",
    "version": 3
   },
   "file_extension": ".py",
   "mimetype": "text/x-python",
   "name": "python",
   "nbconvert_exporter": "python",
   "pygments_lexer": "ipython3",
   "version": "3.12.4"
  }
 },
 "nbformat": 4,
 "nbformat_minor": 2
}
