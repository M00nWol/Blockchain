{
 "cells": [
  {
   "cell_type": "markdown",
   "metadata": {},
   "source": [
    "## 3.4 Block Wallet 사이트 만들기"
   ]
  },
  {
   "cell_type": "markdown",
   "metadata": {},
   "source": [
    "### 1_Block Wallet Back-end 구축하기"
   ]
  },
  {
   "cell_type": "code",
   "execution_count": 1,
   "metadata": {},
   "outputs": [
    {
     "name": "stdout",
     "output_type": "stream",
     "text": [
      " * Serving Flask app '__main__'\n",
      " * Debug mode: off\n"
     ]
    },
    {
     "name": "stderr",
     "output_type": "stream",
     "text": [
      "WARNING: This is a development server. Do not use it in a production deployment. Use a production WSGI server instead.\n",
      " * Running on http://127.0.0.1:8081\n",
      "Press CTRL+C to quit\n",
      "127.0.0.1 - - [23/Sep/2024 20:14:29] \"GET / HTTP/1.1\" 200 -\n"
     ]
    },
    {
     "name": "stdout",
     "output_type": "stream",
     "text": [
      "login 버튼을 누름\n",
      "login 지갑주소 :  {'wallet_id': ['test-to']}\n"
     ]
    },
    {
     "name": "stderr",
     "output_type": "stream",
     "text": [
      "127.0.0.1 - - [23/Sep/2024 20:14:34] \"POST / HTTP/1.1\" 200 -\n"
     ]
    },
    {
     "name": "stdout",
     "output_type": "stream",
     "text": [
      "Chain Response: {'chain': [{'index': 1, 'nonce': 100, 'previous_hash': 1, 'timestamp': 1727089816.295097, 'transactions': []}, {'index': 2, 'nonce': 9317841, 'previous_hash': 'e85f9a67c9d69f06eafa0089baf6f5d52dc1ffe4d1b07ccd72706ce7276cb921', 'timestamp': 1727089826.2203434, 'transactions': [{'amount': 3, 'recipient': 'test-to', 'sender': 'test-from', 'timestamp': 1727089822.063624}, {'amount': 0.1, 'recipient': 'node_5000', 'sender': 'master', 'timestamp': 1727089826.2203434}]}, {'index': 3, 'nonce': 770304, 'previous_hash': '8c28c7739040cb0f2e1bd97e95e559327db2b2156bafd83b6038992497761920', 'timestamp': 1727089834.5278556, 'transactions': [{'amount': 30, 'recipient': 'test-to2', 'sender': 'test-from', 'timestamp': 1727089830.341018}, {'amount': 300, 'recipient': 'test-to3', 'sender': 'test-from', 'timestamp': 1727089832.3899186}, {'amount': 0.1, 'recipient': 'node_5000', 'sender': 'master', 'timestamp': 1727089834.5278556}]}], 'length': 3}\n",
      "********\n",
      "로그인성공\n",
      "123123 :  test-to\n",
      "3\n"
     ]
    },
    {
     "name": "stderr",
     "output_type": "stream",
     "text": [
      "127.0.0.1 - - [23/Sep/2024 20:14:58] \"POST /wallet HTTP/1.1\" 200 -\n",
      "127.0.0.1 - - [23/Sep/2024 20:15:06] \"GET / HTTP/1.1\" 200 -\n"
     ]
    },
    {
     "name": "stdout",
     "output_type": "stream",
     "text": [
      "login 버튼을 누름\n",
      "login 지갑주소 :  {'wallet_id': ['test-to']}\n",
      "login 버튼을 누름\n",
      "login 지갑주소 :  {'wallet_id': ['test-to']}\n"
     ]
    },
    {
     "name": "stderr",
     "output_type": "stream",
     "text": [
      "127.0.0.1 - - [23/Sep/2024 20:15:13] \"POST / HTTP/1.1\" 200 -\n"
     ]
    },
    {
     "name": "stdout",
     "output_type": "stream",
     "text": [
      "Chain Response: {'chain': [{'index': 1, 'nonce': 100, 'previous_hash': 1, 'timestamp': 1727089816.295097, 'transactions': []}, {'index': 2, 'nonce': 9317841, 'previous_hash': 'e85f9a67c9d69f06eafa0089baf6f5d52dc1ffe4d1b07ccd72706ce7276cb921', 'timestamp': 1727089826.2203434, 'transactions': [{'amount': 3, 'recipient': 'test-to', 'sender': 'test-from', 'timestamp': 1727089822.063624}, {'amount': 0.1, 'recipient': 'node_5000', 'sender': 'master', 'timestamp': 1727089826.2203434}]}, {'index': 3, 'nonce': 770304, 'previous_hash': '8c28c7739040cb0f2e1bd97e95e559327db2b2156bafd83b6038992497761920', 'timestamp': 1727089834.5278556, 'transactions': [{'amount': 30, 'recipient': 'test-to2', 'sender': 'test-from', 'timestamp': 1727089830.341018}, {'amount': 300, 'recipient': 'test-to3', 'sender': 'test-from', 'timestamp': 1727089832.3899186}, {'amount': 0.1, 'recipient': 'node_5000', 'sender': 'master', 'timestamp': 1727089834.5278556}]}], 'length': 3}\n",
      "********\n",
      "로그인성공\n"
     ]
    },
    {
     "name": "stderr",
     "output_type": "stream",
     "text": [
      "127.0.0.1 - - [23/Sep/2024 20:15:14] \"POST / HTTP/1.1\" 200 -\n"
     ]
    },
    {
     "name": "stdout",
     "output_type": "stream",
     "text": [
      "Chain Response: {'chain': [{'index': 1, 'nonce': 100, 'previous_hash': 1, 'timestamp': 1727089816.295097, 'transactions': []}, {'index': 2, 'nonce': 9317841, 'previous_hash': 'e85f9a67c9d69f06eafa0089baf6f5d52dc1ffe4d1b07ccd72706ce7276cb921', 'timestamp': 1727089826.2203434, 'transactions': [{'amount': 3, 'recipient': 'test-to', 'sender': 'test-from', 'timestamp': 1727089822.063624}, {'amount': 0.1, 'recipient': 'node_5000', 'sender': 'master', 'timestamp': 1727089826.2203434}]}, {'index': 3, 'nonce': 770304, 'previous_hash': '8c28c7739040cb0f2e1bd97e95e559327db2b2156bafd83b6038992497761920', 'timestamp': 1727089834.5278556, 'transactions': [{'amount': 30, 'recipient': 'test-to2', 'sender': 'test-from', 'timestamp': 1727089830.341018}, {'amount': 300, 'recipient': 'test-to3', 'sender': 'test-from', 'timestamp': 1727089832.3899186}, {'amount': 0.1, 'recipient': 'node_5000', 'sender': 'master', 'timestamp': 1727089834.5278556}]}], 'length': 3}\n",
      "********\n",
      "로그인성공\n"
     ]
    },
    {
     "name": "stderr",
     "output_type": "stream",
     "text": [
      "127.0.0.1 - - [23/Sep/2024 20:23:18] \"GET / HTTP/1.1\" 200 -\n",
      "127.0.0.1 - - [23/Sep/2024 20:23:18] \"GET /favicon.ico HTTP/1.1\" 404 -\n"
     ]
    },
    {
     "name": "stdout",
     "output_type": "stream",
     "text": [
      "login 버튼을 누름\n",
      "login 지갑주소 :  {'wallet_id': ['test-to']}\n"
     ]
    },
    {
     "name": "stderr",
     "output_type": "stream",
     "text": [
      "127.0.0.1 - - [23/Sep/2024 20:23:26] \"POST / HTTP/1.1\" 200 -\n"
     ]
    },
    {
     "name": "stdout",
     "output_type": "stream",
     "text": [
      "Chain Response: {'chain': [{'index': 1, 'nonce': 100, 'previous_hash': 1, 'timestamp': 1727089816.295097, 'transactions': []}, {'index': 2, 'nonce': 9317841, 'previous_hash': 'e85f9a67c9d69f06eafa0089baf6f5d52dc1ffe4d1b07ccd72706ce7276cb921', 'timestamp': 1727089826.2203434, 'transactions': [{'amount': 3, 'recipient': 'test-to', 'sender': 'test-from', 'timestamp': 1727089822.063624}, {'amount': 0.1, 'recipient': 'node_5000', 'sender': 'master', 'timestamp': 1727089826.2203434}]}, {'index': 3, 'nonce': 770304, 'previous_hash': '8c28c7739040cb0f2e1bd97e95e559327db2b2156bafd83b6038992497761920', 'timestamp': 1727089834.5278556, 'transactions': [{'amount': 30, 'recipient': 'test-to2', 'sender': 'test-from', 'timestamp': 1727089830.341018}, {'amount': 300, 'recipient': 'test-to3', 'sender': 'test-from', 'timestamp': 1727089832.3899186}, {'amount': 0.1, 'recipient': 'node_5000', 'sender': 'master', 'timestamp': 1727089834.5278556}]}], 'length': 3}\n",
      "********\n",
      "로그인성공\n",
      "123123 :  test-to\n",
      "2\n"
     ]
    },
    {
     "name": "stderr",
     "output_type": "stream",
     "text": [
      "127.0.0.1 - - [23/Sep/2024 20:23:34] \"POST /wallet HTTP/1.1\" 200 -\n",
      "127.0.0.1 - - [23/Sep/2024 20:23:51] \"GET / HTTP/1.1\" 200 -\n"
     ]
    },
    {
     "name": "stdout",
     "output_type": "stream",
     "text": [
      "login 버튼을 누름\n",
      "login 지갑주소 :  {'wallet_id': ['test-to']}\n",
      "login 버튼을 누름\n",
      "login 지갑주소 :  {'wallet_id': ['test-to']}\n"
     ]
    },
    {
     "name": "stderr",
     "output_type": "stream",
     "text": [
      "127.0.0.1 - - [23/Sep/2024 20:23:56] \"POST / HTTP/1.1\" 200 -\n"
     ]
    },
    {
     "name": "stdout",
     "output_type": "stream",
     "text": [
      "Chain Response: {'chain': [{'index': 1, 'nonce': 100, 'previous_hash': 1, 'timestamp': 1727089816.295097, 'transactions': []}, {'index': 2, 'nonce': 9317841, 'previous_hash': 'e85f9a67c9d69f06eafa0089baf6f5d52dc1ffe4d1b07ccd72706ce7276cb921', 'timestamp': 1727089826.2203434, 'transactions': [{'amount': 3, 'recipient': 'test-to', 'sender': 'test-from', 'timestamp': 1727089822.063624}, {'amount': 0.1, 'recipient': 'node_5000', 'sender': 'master', 'timestamp': 1727089826.2203434}]}, {'index': 3, 'nonce': 770304, 'previous_hash': '8c28c7739040cb0f2e1bd97e95e559327db2b2156bafd83b6038992497761920', 'timestamp': 1727089834.5278556, 'transactions': [{'amount': 30, 'recipient': 'test-to2', 'sender': 'test-from', 'timestamp': 1727089830.341018}, {'amount': 300, 'recipient': 'test-to3', 'sender': 'test-from', 'timestamp': 1727089832.3899186}, {'amount': 0.1, 'recipient': 'node_5000', 'sender': 'master', 'timestamp': 1727089834.5278556}]}], 'length': 3}\n",
      "********\n",
      "로그인성공\n"
     ]
    },
    {
     "name": "stderr",
     "output_type": "stream",
     "text": [
      "127.0.0.1 - - [23/Sep/2024 20:23:57] \"POST / HTTP/1.1\" 200 -\n"
     ]
    },
    {
     "name": "stdout",
     "output_type": "stream",
     "text": [
      "Chain Response: {'chain': [{'index': 1, 'nonce': 100, 'previous_hash': 1, 'timestamp': 1727089816.295097, 'transactions': []}, {'index': 2, 'nonce': 9317841, 'previous_hash': 'e85f9a67c9d69f06eafa0089baf6f5d52dc1ffe4d1b07ccd72706ce7276cb921', 'timestamp': 1727089826.2203434, 'transactions': [{'amount': 3, 'recipient': 'test-to', 'sender': 'test-from', 'timestamp': 1727089822.063624}, {'amount': 0.1, 'recipient': 'node_5000', 'sender': 'master', 'timestamp': 1727089826.2203434}]}, {'index': 3, 'nonce': 770304, 'previous_hash': '8c28c7739040cb0f2e1bd97e95e559327db2b2156bafd83b6038992497761920', 'timestamp': 1727089834.5278556, 'transactions': [{'amount': 30, 'recipient': 'test-to2', 'sender': 'test-from', 'timestamp': 1727089830.341018}, {'amount': 300, 'recipient': 'test-to3', 'sender': 'test-from', 'timestamp': 1727089832.3899186}, {'amount': 0.1, 'recipient': 'node_5000', 'sender': 'master', 'timestamp': 1727089834.5278556}]}], 'length': 3}\n",
      "********\n",
      "로그인성공\n"
     ]
    },
    {
     "name": "stderr",
     "output_type": "stream",
     "text": [
      "127.0.0.1 - - [23/Sep/2024 20:35:56] \"GET / HTTP/1.1\" 200 -\n"
     ]
    },
    {
     "name": "stdout",
     "output_type": "stream",
     "text": [
      "login 버튼을 누름\n",
      "login 지갑주소 :  {'wallet_id': ['test-to']}\n"
     ]
    },
    {
     "name": "stderr",
     "output_type": "stream",
     "text": [
      "127.0.0.1 - - [23/Sep/2024 20:36:01] \"POST / HTTP/1.1\" 200 -\n"
     ]
    },
    {
     "name": "stdout",
     "output_type": "stream",
     "text": [
      "Chain Response: {'chain': [{'index': 1, 'nonce': 100, 'previous_hash': 1, 'timestamp': 1727089816.295097, 'transactions': []}, {'index': 2, 'nonce': 9317841, 'previous_hash': 'e85f9a67c9d69f06eafa0089baf6f5d52dc1ffe4d1b07ccd72706ce7276cb921', 'timestamp': 1727089826.2203434, 'transactions': [{'amount': 3, 'recipient': 'test-to', 'sender': 'test-from', 'timestamp': 1727089822.063624}, {'amount': 0.1, 'recipient': 'node_5000', 'sender': 'master', 'timestamp': 1727089826.2203434}]}, {'index': 3, 'nonce': 770304, 'previous_hash': '8c28c7739040cb0f2e1bd97e95e559327db2b2156bafd83b6038992497761920', 'timestamp': 1727089834.5278556, 'transactions': [{'amount': 30, 'recipient': 'test-to2', 'sender': 'test-from', 'timestamp': 1727089830.341018}, {'amount': 300, 'recipient': 'test-to3', 'sender': 'test-from', 'timestamp': 1727089832.3899186}, {'amount': 0.1, 'recipient': 'node_5000', 'sender': 'master', 'timestamp': 1727089834.5278556}]}, {'index': 4, 'nonce': 8417091, 'previous_hash': 'c351f8ae3529ddb9fde58bb83ae413e56d34982ed36c45370c640d2bf3e89e42', 'timestamp': 1727091337.012978, 'transactions': [{'amount': 3, 'recipient': 'test-to4', 'sender': 'test-to', 'timestamp': 1727090098.858969}, {'amount': 2, 'recipient': 'test-to3', 'sender': 'test-to', 'timestamp': 1727090614.1401753}, {'amount': 0.1, 'recipient': 'node_5000', 'sender': 'master', 'timestamp': 1727091337.012978}]}], 'length': 4}\n",
      "********\n",
      "로그인성공\n"
     ]
    }
   ],
   "source": [
    "from flask import Flask\n",
    "from datetime import datetime\n",
    "from flask import render_template\n",
    "from flask import request\n",
    "from flask import url_for\n",
    "from flask import redirect\n",
    "\n",
    "import requests\n",
    "import json\n",
    "import os\n",
    "import pandas as pd\n",
    "\n",
    "\n",
    "app = Flask(__name__, template_folder=os.getcwd())\n",
    "\n",
    "@app.route('/', methods=['GET', 'POST'])\n",
    "def login():\n",
    "\n",
    "    if request.method=='POST':\n",
    "        print(\"login 버튼을 누름\")\n",
    "        input_value = request.form.to_dict(flat=False)\n",
    "        print(\"login 지갑주소 : \" , input_value)\n",
    "        \n",
    "        ### 기존 user 정보 확인\n",
    "        headers = {'Content-Type' : 'application/json; charset=utf-8'}\n",
    "        # 수정 후\n",
    "        res = requests.get(\"http://localhost:5000/chain\", headers=headers)\n",
    "        print(\"Chain Response:\", res.json())  # 체인 상태 출력\n",
    "#         print(res.text )\n",
    "        print(\"*\"*8)\n",
    "        status_json = json.loads(res.text)\n",
    "        status_json['chain']    \n",
    "        tx_amount_l = []\n",
    "        tx_sender_l = []\n",
    "        tx_reciv_l  = []\n",
    "        tx_time_l   = []\n",
    "\n",
    "        for chain_index in range(len(status_json['chain'])):\n",
    "            chain_tx = status_json['chain'][chain_index]['transactions']\n",
    "            for each_tx in range(len(chain_tx)):\n",
    "                tx_amount_l.append(chain_tx[each_tx]['amount'])\n",
    "                tx_sender_l.append(chain_tx[each_tx]['sender'])\n",
    "                tx_reciv_l.append(chain_tx[each_tx]['recipient'])\n",
    "                tx_time_l.append(chain_tx[each_tx]['timestamp'])\n",
    "\n",
    "        df_tx = pd.DataFrame()\n",
    "        df_tx['timestamp'] = tx_time_l  \n",
    "        df_tx['sender'] = tx_sender_l \n",
    "        df_tx['recipient'] = tx_reciv_l\n",
    "        df_tx['amount'] = tx_amount_l   \n",
    "        df_tx\n",
    "\n",
    "\n",
    "\n",
    "        df_sended = pd.DataFrame(df_tx.groupby('sender')['amount'].sum()).reset_index()\n",
    "        df_sended.columns = ['user','sended_amount']\n",
    "        df_received= pd.DataFrame(df_tx.groupby('recipient')['amount'].sum()).reset_index()\n",
    "        df_received.columns = ['user','received_amount']\n",
    "        df_received\n",
    "\n",
    "        df_status = pd.merge(df_received,df_sended, on ='user', how=  'outer').fillna(0)\n",
    "        df_status['balance'] = df_status['received_amount']  - df_status['sended_amount']  \n",
    "        df_status       \n",
    "    \n",
    "    \n",
    "        if (df_status['user']==input_value['wallet_id'][0] ).sum() == 1:\n",
    "            print(\"로그인성공\")\n",
    "            return render_template(\"wallet.html\",  wallet_id = input_value['wallet_id'][0], \n",
    "                                                    wallet_value = df_status[df_status['user']== df_status['user'].iloc[0]]['balance'].iloc[0])\n",
    "        else:\n",
    "            return \"잘못된 지갑주소입니다.\"\n",
    "        \n",
    "    return render_template('login.html')\n",
    "\n",
    "@app.route('/wallet', methods=['GET', 'POST'])\n",
    "def wallet():\n",
    "    if request.method=='POST':\n",
    "        send_value = int(request.form.to_dict(flat=False)['send_value'][0] )\n",
    "        send_target = request.form.to_dict(flat=False)['send_target'][0]\n",
    "        send_from = request.form.to_dict(flat=False)['send_from'][0]\n",
    "        print(\"123123 : \" ,send_from)\n",
    "        \n",
    "        if send_value > 0:\n",
    "            print(send_value)\n",
    "            ## transaction 입력하기\n",
    "            headers = {'Content-Type' : 'application/json; charset=utf-8'}\n",
    "            data = {\n",
    "                \"sender\": send_from,\n",
    "                \"recipient\": send_target,\n",
    "                \"amount\": send_value,\n",
    "            }\n",
    "            requests.post(\"http://localhost:5000/transactions/new\", headers=headers, data=json.dumps(data)).content\n",
    "\n",
    "            return \"전송 완료!\"\n",
    "\n",
    "        else:\n",
    "            return \"0 pyBTC 이상 보내주세요!\"\n",
    "\n",
    "        \n",
    "        \n",
    "    return render_template('wallet.html')\n",
    "    \n",
    "    \n",
    "    \n",
    "app.run(port=8081)"
   ]
  }
 ],
 "metadata": {
  "kernelspec": {
   "display_name": ".venv",
   "language": "python",
   "name": "python3"
  },
  "language_info": {
   "codemirror_mode": {
    "name": "ipython",
    "version": 3
   },
   "file_extension": ".py",
   "mimetype": "text/x-python",
   "name": "python",
   "nbconvert_exporter": "python",
   "pygments_lexer": "ipython3",
   "version": "3.12.4"
  }
 },
 "nbformat": 4,
 "nbformat_minor": 2
}
