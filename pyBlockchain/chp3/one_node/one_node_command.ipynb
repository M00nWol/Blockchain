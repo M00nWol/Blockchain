{
 "cells": [
  {
   "cell_type": "markdown",
   "metadata": {},
   "source": [
    "## 3.2 운영 중인 노드에 실행 명령하기"
   ]
  },
  {
   "cell_type": "code",
   "execution_count": 1,
   "metadata": {},
   "outputs": [],
   "source": [
    "import requests\n",
    "import json\n",
    "import pandas as pd\n",
    "import hashlib\n",
    "import random"
   ]
  },
  {
   "cell_type": "markdown",
   "metadata": {},
   "source": [
    "### 1. 노드의 블록 정보 확인"
   ]
  },
  {
   "cell_type": "code",
   "execution_count": 2,
   "metadata": {},
   "outputs": [
    {
     "data": {
      "text/plain": [
       "{'chain': [{'index': 1,\n",
       "   'nonce': 100,\n",
       "   'previous_hash': 1,\n",
       "   'timestamp': 1726464312.4814615,\n",
       "   'transactions': []}],\n",
       " 'length': 1}"
      ]
     },
     "execution_count": 2,
     "metadata": {},
     "output_type": "execute_result"
    }
   ],
   "source": [
    "# one_node.ipynb 실행켜야 서버에서 정보 받아옴\n",
    "\n",
    "headers = {'Content-Type': 'application/json; charset=utf-8'}\n",
    "res = requests.get(\"http://localhost:5000/chain\", headers=headers)\n",
    "json.loads(res.content)"
   ]
  },
  {
   "cell_type": "markdown",
   "metadata": {},
   "source": [
    "### 2-1. transaction 입력하기"
   ]
  },
  {
   "cell_type": "code",
   "execution_count": 3,
   "metadata": {},
   "outputs": [
    {
     "data": {
      "text/plain": [
       "b'{\"message\":\"Transaction will be added to Block {2}\"}\\n'"
      ]
     },
     "execution_count": 3,
     "metadata": {},
     "output_type": "execute_result"
    }
   ],
   "source": [
    "# transaction 입력하기\n",
    "headers = {'Content-Type' : 'application/json; charset=utf-8'}\n",
    "data = {\n",
    "    \"sender\": \"test-from\",\n",
    "    \"recipient\": \"test-to\",\n",
    "    \"amount\" : 3,\n",
    "}\n",
    "\n",
    "requests.post(\"http://localhost:5000/transactions/new\", headers=headers,data = json.dumps(data)).content"
   ]
  },
  {
   "cell_type": "markdown",
   "metadata": {},
   "source": [
    "### 2-2. 노드의 블록 정보 확인 - 2"
   ]
  },
  {
   "cell_type": "code",
   "execution_count": 4,
   "metadata": {},
   "outputs": [
    {
     "data": {
      "text/plain": [
       "{'chain': [{'index': 1,\n",
       "   'nonce': 100,\n",
       "   'previous_hash': 1,\n",
       "   'timestamp': 1726464312.4814615,\n",
       "   'transactions': []}],\n",
       " 'length': 1}"
      ]
     },
     "execution_count": 4,
     "metadata": {},
     "output_type": "execute_result"
    }
   ],
   "source": [
    "headers = {'Content-Type': 'application/json; charset=utf-8'}\n",
    "res = requests.get(\"http://localhost:5000/chain\", headers=headers)\n",
    "json.loads(res.content)"
   ]
  },
  {
   "cell_type": "markdown",
   "metadata": {},
   "source": [
    "### 3-1. 채굴하기 -1"
   ]
  },
  {
   "cell_type": "code",
   "execution_count": 5,
   "metadata": {},
   "outputs": [
    {
     "name": "stdout",
     "output_type": "stream",
     "text": [
      "<Response [200]>\n"
     ]
    }
   ],
   "source": [
    "# 채굴하기\n",
    "headers = {'Content-Type' : 'application/json; charset=utf-8'}\n",
    "res = requests.get(\"http://localhost:5000/mine\")\n",
    "print(res)"
   ]
  },
  {
   "cell_type": "markdown",
   "metadata": {},
   "source": [
    "### 3-2. 노드의 블록 정보 확인 -3"
   ]
  },
  {
   "cell_type": "code",
   "execution_count": 6,
   "metadata": {},
   "outputs": [
    {
     "data": {
      "text/plain": [
       "{'chain': [{'index': 1,\n",
       "   'nonce': 100,\n",
       "   'previous_hash': 1,\n",
       "   'timestamp': 1726464312.4814615,\n",
       "   'transactions': []},\n",
       "  {'index': 2,\n",
       "   'nonce': 3360337,\n",
       "   'previous_hash': 'a836d9a7c2b5097617d38a43956e6a999cdf20405f7507caad2f3bf115c84e8f',\n",
       "   'timestamp': 1726464325.365661,\n",
       "   'transactions': [{'amount': 3,\n",
       "     'recipient': 'test-to',\n",
       "     'sender': 'test-from',\n",
       "     'timestamp': 1726464321.2126505},\n",
       "    {'amount': 0.1,\n",
       "     'recipient': 'node_5000',\n",
       "     'sender': 'master',\n",
       "     'timestamp': 1726464325.365661}]}],\n",
       " 'length': 2}"
      ]
     },
     "execution_count": 6,
     "metadata": {},
     "output_type": "execute_result"
    }
   ],
   "source": [
    "headers = {'Content-Type': 'application/json; charset=utf-8'}\n",
    "res = requests.get(\"http://localhost:5000/chain\", headers=headers)\n",
    "json.loads(res.content)"
   ]
  },
  {
   "cell_type": "markdown",
   "metadata": {},
   "source": [
    "### 4. transaction2 입력하기 + 채굴 + 블록 정보 확인"
   ]
  },
  {
   "cell_type": "code",
   "execution_count": 7,
   "metadata": {},
   "outputs": [
    {
     "name": "stdout",
     "output_type": "stream",
     "text": [
      "<Response [200]>\n"
     ]
    }
   ],
   "source": [
    "# transaction 입력하기 - 2\n",
    "headers = {'Content-Type' : 'application/json; charset=utf-8'}\n",
    "data = {\n",
    "    \"sender\": \"test-from\",\n",
    "    \"recipient\": \"test-to2\",\n",
    "    \"amount\" : 30,\n",
    "}\n",
    "\n",
    "requests.post(\"http://localhost:5000/transactions/new\", headers=headers,data = json.dumps(data)).content\n",
    "\n",
    "# transaction 입력하기 - 3\n",
    "headers = {'Content-Type' : 'application/json; charset=utf-8'}\n",
    "data = {\n",
    "    \"sender\": \"test-from\",\n",
    "    \"recipient\": \"test-to3\",\n",
    "    \"amount\" : 300,\n",
    "}\n",
    "\n",
    "requests.post(\"http://localhost:5000/transactions/new\", headers=headers,data = json.dumps(data)).content\n",
    "\n",
    "# 채굴하기\n",
    "headers = {'Content-Type' : 'application/json; charset=utf-8'}\n",
    "res = requests.get(\"http://localhost:5000/mine\")\n",
    "print(res)\n",
    "\n",
    "# 노드의 블록정보 확인 - 4\n",
    "headers = {'Content-Type': 'application/json; charset=utf-8'}\n",
    "res = requests.get(\"http://localhost:5000/chain\", headers=headers)"
   ]
  },
  {
   "cell_type": "code",
   "execution_count": 8,
   "metadata": {},
   "outputs": [
    {
     "data": {
      "text/plain": [
       "'{\"chain\":[{\"index\":1,\"nonce\":100,\"previous_hash\":1,\"timestamp\":1726464312.4814615,\"transactions\":[]},{\"index\":2,\"nonce\":3360337,\"previous_hash\":\"a836d9a7c2b5097617d38a43956e6a999cdf20405f7507caad2f3bf115c84e8f\",\"timestamp\":1726464325.365661,\"transactions\":[{\"amount\":3,\"recipient\":\"test-to\",\"sender\":\"test-from\",\"timestamp\":1726464321.2126505},{\"amount\":0.1,\"recipient\":\"node_5000\",\"sender\":\"master\",\"timestamp\":1726464325.365661}]},{\"index\":3,\"nonce\":7941146,\"previous_hash\":\"cef6b241be14fab4256bed76c51d52a3a6835484d22ab31a3164ab4153d5ffe4\",\"timestamp\":1726464333.5811384,\"transactions\":[{\"amount\":30,\"recipient\":\"test-to2\",\"sender\":\"test-from\",\"timestamp\":1726464329.4395347},{\"amount\":300,\"recipient\":\"test-to3\",\"sender\":\"test-from\",\"timestamp\":1726464331.5102217},{\"amount\":0.1,\"recipient\":\"node_5000\",\"sender\":\"master\",\"timestamp\":1726464333.5811384}]}],\"length\":3}\\n'"
      ]
     },
     "execution_count": 8,
     "metadata": {},
     "output_type": "execute_result"
    }
   ],
   "source": [
    "res.text"
   ]
  },
  {
   "cell_type": "markdown",
   "metadata": {},
   "source": [
    "### 5. Pandas를 활용한 거래내역 조회"
   ]
  },
  {
   "cell_type": "code",
   "execution_count": 9,
   "metadata": {},
   "outputs": [
    {
     "data": {
      "text/html": [
       "<div>\n",
       "<style scoped>\n",
       "    .dataframe tbody tr th:only-of-type {\n",
       "        vertical-align: middle;\n",
       "    }\n",
       "\n",
       "    .dataframe tbody tr th {\n",
       "        vertical-align: top;\n",
       "    }\n",
       "\n",
       "    .dataframe thead th {\n",
       "        text-align: right;\n",
       "    }\n",
       "</style>\n",
       "<table border=\"1\" class=\"dataframe\">\n",
       "  <thead>\n",
       "    <tr style=\"text-align: right;\">\n",
       "      <th></th>\n",
       "      <th>timestamp</th>\n",
       "      <th>sender</th>\n",
       "      <th>recipient</th>\n",
       "      <th>amount</th>\n",
       "    </tr>\n",
       "  </thead>\n",
       "  <tbody>\n",
       "    <tr>\n",
       "      <th>0</th>\n",
       "      <td>1.726464e+09</td>\n",
       "      <td>test-from</td>\n",
       "      <td>test-to</td>\n",
       "      <td>3.0</td>\n",
       "    </tr>\n",
       "    <tr>\n",
       "      <th>1</th>\n",
       "      <td>1.726464e+09</td>\n",
       "      <td>master</td>\n",
       "      <td>node_5000</td>\n",
       "      <td>0.1</td>\n",
       "    </tr>\n",
       "    <tr>\n",
       "      <th>2</th>\n",
       "      <td>1.726464e+09</td>\n",
       "      <td>test-from</td>\n",
       "      <td>test-to2</td>\n",
       "      <td>30.0</td>\n",
       "    </tr>\n",
       "    <tr>\n",
       "      <th>3</th>\n",
       "      <td>1.726464e+09</td>\n",
       "      <td>test-from</td>\n",
       "      <td>test-to3</td>\n",
       "      <td>300.0</td>\n",
       "    </tr>\n",
       "    <tr>\n",
       "      <th>4</th>\n",
       "      <td>1.726464e+09</td>\n",
       "      <td>master</td>\n",
       "      <td>node_5000</td>\n",
       "      <td>0.1</td>\n",
       "    </tr>\n",
       "  </tbody>\n",
       "</table>\n",
       "</div>"
      ],
      "text/plain": [
       "      timestamp     sender  recipient  amount\n",
       "0  1.726464e+09  test-from    test-to     3.0\n",
       "1  1.726464e+09     master  node_5000     0.1\n",
       "2  1.726464e+09  test-from   test-to2    30.0\n",
       "3  1.726464e+09  test-from   test-to3   300.0\n",
       "4  1.726464e+09     master  node_5000     0.1"
      ]
     },
     "execution_count": 9,
     "metadata": {},
     "output_type": "execute_result"
    }
   ],
   "source": [
    "status_json = json.loads(res.text)\n",
    "status_json['chain']\n",
    "tx_amount_l = []\n",
    "tx_sender_l = []\n",
    "tx_reciv_l = []\n",
    "tx_time_l = []\n",
    "\n",
    "for chain_index in range(len(status_json['chain'])):\n",
    "    chain_tx = status_json['chain'][chain_index]['transactions']\n",
    "    for each_tx in range(len(chain_tx)):\n",
    "        tx_amount_l.append(chain_tx[each_tx]['amount'])\n",
    "        tx_sender_l.append(chain_tx[each_tx]['sender'])\n",
    "        tx_reciv_l.append(chain_tx[each_tx]['recipient'])\n",
    "        tx_time_l.append(chain_tx[each_tx]['timestamp'])\n",
    "\n",
    "df_tx = pd.DataFrame()\n",
    "df_tx['timestamp'] = tx_time_l\n",
    "df_tx['sender'] = tx_sender_l\n",
    "df_tx['recipient'] = tx_reciv_l\n",
    "df_tx['amount'] = tx_amount_l\n",
    "df_tx"
   ]
  },
  {
   "cell_type": "markdown",
   "metadata": {},
   "source": [
    "### 6. 거래내역 기반 계정별(지갑별) 잔액 조회"
   ]
  },
  {
   "cell_type": "code",
   "execution_count": 10,
   "metadata": {},
   "outputs": [
    {
     "data": {
      "text/html": [
       "<div>\n",
       "<style scoped>\n",
       "    .dataframe tbody tr th:only-of-type {\n",
       "        vertical-align: middle;\n",
       "    }\n",
       "\n",
       "    .dataframe tbody tr th {\n",
       "        vertical-align: top;\n",
       "    }\n",
       "\n",
       "    .dataframe thead th {\n",
       "        text-align: right;\n",
       "    }\n",
       "</style>\n",
       "<table border=\"1\" class=\"dataframe\">\n",
       "  <thead>\n",
       "    <tr style=\"text-align: right;\">\n",
       "      <th></th>\n",
       "      <th>user</th>\n",
       "      <th>received_amount</th>\n",
       "      <th>sended_amount</th>\n",
       "      <th>balance</th>\n",
       "    </tr>\n",
       "  </thead>\n",
       "  <tbody>\n",
       "    <tr>\n",
       "      <th>0</th>\n",
       "      <td>master</td>\n",
       "      <td>0.0</td>\n",
       "      <td>0.2</td>\n",
       "      <td>-0.2</td>\n",
       "    </tr>\n",
       "    <tr>\n",
       "      <th>1</th>\n",
       "      <td>node_5000</td>\n",
       "      <td>0.2</td>\n",
       "      <td>0.0</td>\n",
       "      <td>0.2</td>\n",
       "    </tr>\n",
       "    <tr>\n",
       "      <th>2</th>\n",
       "      <td>test-from</td>\n",
       "      <td>0.0</td>\n",
       "      <td>333.0</td>\n",
       "      <td>-333.0</td>\n",
       "    </tr>\n",
       "    <tr>\n",
       "      <th>3</th>\n",
       "      <td>test-to</td>\n",
       "      <td>3.0</td>\n",
       "      <td>0.0</td>\n",
       "      <td>3.0</td>\n",
       "    </tr>\n",
       "    <tr>\n",
       "      <th>4</th>\n",
       "      <td>test-to2</td>\n",
       "      <td>30.0</td>\n",
       "      <td>0.0</td>\n",
       "      <td>30.0</td>\n",
       "    </tr>\n",
       "    <tr>\n",
       "      <th>5</th>\n",
       "      <td>test-to3</td>\n",
       "      <td>300.0</td>\n",
       "      <td>0.0</td>\n",
       "      <td>300.0</td>\n",
       "    </tr>\n",
       "  </tbody>\n",
       "</table>\n",
       "</div>"
      ],
      "text/plain": [
       "        user  received_amount  sended_amount  balance\n",
       "0     master              0.0            0.2     -0.2\n",
       "1  node_5000              0.2            0.0      0.2\n",
       "2  test-from              0.0          333.0   -333.0\n",
       "3    test-to              3.0            0.0      3.0\n",
       "4   test-to2             30.0            0.0     30.0\n",
       "5   test-to3            300.0            0.0    300.0"
      ]
     },
     "execution_count": 10,
     "metadata": {},
     "output_type": "execute_result"
    }
   ],
   "source": [
    "df_sended = pd.DataFrame(df_tx.groupby('sender')['amount'].sum()).reset_index()\n",
    "df_sended.columns = ['user', 'sended_amount']\n",
    "df_received = pd.DataFrame(df_tx.groupby('recipient')['amount'].sum()).reset_index()\n",
    "df_received.columns = ['user', 'received_amount']\n",
    "df_received\n",
    "\n",
    "df_status = pd.merge(df_received, df_sended, on = 'user', how = 'outer').fillna(0)\n",
    "df_status['balance'] = df_status['received_amount'] - df_status['sended_amount']\n",
    "df_status"
   ]
  }
 ],
 "metadata": {
  "kernelspec": {
   "display_name": ".venv",
   "language": "python",
   "name": "python3"
  },
  "language_info": {
   "codemirror_mode": {
    "name": "ipython",
    "version": 3
   },
   "file_extension": ".py",
   "mimetype": "text/x-python",
   "name": "python",
   "nbconvert_exporter": "python",
   "pygments_lexer": "ipython3",
   "version": "3.12.4"
  }
 },
 "nbformat": 4,
 "nbformat_minor": 2
}
