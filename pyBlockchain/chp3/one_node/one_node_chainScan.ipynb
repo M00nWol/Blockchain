{
 "cells": [
  {
   "cell_type": "markdown",
   "metadata": {},
   "source": [
    "## 3.3 블록 스캔 사이트 만들기"
   ]
  },
  {
   "cell_type": "markdown",
   "metadata": {},
   "source": [
    "### 1. 블록 스캔 사이트 Back-end 구축하기"
   ]
  },
  {
   "cell_type": "code",
   "execution_count": 1,
   "metadata": {},
   "outputs": [
    {
     "name": "stdout",
     "output_type": "stream",
     "text": [
      " * Serving Flask app '__main__'\n",
      " * Debug mode: off\n"
     ]
    },
    {
     "name": "stderr",
     "output_type": "stream",
     "text": [
      "WARNING: This is a development server. Do not use it in a production deployment. Use a production WSGI server instead.\n",
      " * Running on http://127.0.0.1:8080\n",
      "Press CTRL+C to quit\n",
      "127.0.0.1 - - [23/Sep/2024 20:11:04] \"GET / HTTP/1.1\" 200 -\n",
      "127.0.0.1 - - [23/Sep/2024 20:36:18] \"GET / HTTP/1.1\" 200 -\n"
     ]
    }
   ],
   "source": [
    "from flask import Flask\n",
    "from datetime import datetime\n",
    "from flask import render_template\n",
    "import requests\n",
    "import os\n",
    "import json\n",
    "import pandas as pd\n",
    "\n",
    "app = Flask(__name__, template_folder=os.getcwd())\n",
    "\n",
    "@app.route('/')\n",
    "def index():\n",
    "    headers = {'Content-Type' : 'application/json; charset=utf-8'}\n",
    "    # 블록 체인 내 블록 정보를 제공하는 url(http://localhost:5000/chain)에 request 방식으로 데이터를 요청\n",
    "    res = requests.get(\"http://localhost:5000/chain\", headers=headers)\n",
    "    # 요청 결과 데이터(res.text)를 json 으로 로드\n",
    "    status_json = json.loads(res.text)\n",
    "    # 결과 데이터를 pandas의 dataframe(df_scan)으로  정리\n",
    "    df_scan = pd.DataFrame(status_json['chain'] )\n",
    "     # Front 구성내용이 담길 html(one_node_scan.html)파일에 Dataframe 정보(df_scan)과 블록의 길이(block_len)을 제공\n",
    "    return render_template('/one_node_scan.html', df_scan = df_scan, block_len = len(df_scan))\n",
    "\n",
    "app.run(port=8080)"
   ]
  },
  {
   "cell_type": "code",
   "execution_count": 2,
   "metadata": {},
   "outputs": [
    {
     "data": {
      "text/html": [
       "<div>\n",
       "<style scoped>\n",
       "    .dataframe tbody tr th:only-of-type {\n",
       "        vertical-align: middle;\n",
       "    }\n",
       "\n",
       "    .dataframe tbody tr th {\n",
       "        vertical-align: top;\n",
       "    }\n",
       "\n",
       "    .dataframe thead th {\n",
       "        text-align: right;\n",
       "    }\n",
       "</style>\n",
       "<table border=\"1\" class=\"dataframe\">\n",
       "  <thead>\n",
       "    <tr style=\"text-align: right;\">\n",
       "      <th></th>\n",
       "      <th>index</th>\n",
       "      <th>nonce</th>\n",
       "      <th>previous_hash</th>\n",
       "      <th>timestamp</th>\n",
       "      <th>transactions</th>\n",
       "    </tr>\n",
       "  </thead>\n",
       "  <tbody>\n",
       "    <tr>\n",
       "      <th>0</th>\n",
       "      <td>1</td>\n",
       "      <td>100</td>\n",
       "      <td>1</td>\n",
       "      <td>1.727087e+09</td>\n",
       "      <td>[]</td>\n",
       "    </tr>\n",
       "    <tr>\n",
       "      <th>1</th>\n",
       "      <td>2</td>\n",
       "      <td>3237516</td>\n",
       "      <td>e424ba161032e5dd04f68ebb3383b6016609645f0588fc...</td>\n",
       "      <td>1.727087e+09</td>\n",
       "      <td>[{'amount': 3, 'recipient': 'test-to', 'sender...</td>\n",
       "    </tr>\n",
       "    <tr>\n",
       "      <th>2</th>\n",
       "      <td>3</td>\n",
       "      <td>1064637</td>\n",
       "      <td>9fdc75f397574d430f7ab1b3cd3d0ecb4a16cd5d951aa5...</td>\n",
       "      <td>1.727087e+09</td>\n",
       "      <td>[{'amount': 30, 'recipient': 'test-to2', 'send...</td>\n",
       "    </tr>\n",
       "  </tbody>\n",
       "</table>\n",
       "</div>"
      ],
      "text/plain": [
       "   index    nonce                                      previous_hash  \\\n",
       "0      1      100                                                  1   \n",
       "1      2  3237516  e424ba161032e5dd04f68ebb3383b6016609645f0588fc...   \n",
       "2      3  1064637  9fdc75f397574d430f7ab1b3cd3d0ecb4a16cd5d951aa5...   \n",
       "\n",
       "      timestamp                                       transactions  \n",
       "0  1.727087e+09                                                 []  \n",
       "1  1.727087e+09  [{'amount': 3, 'recipient': 'test-to', 'sender...  \n",
       "2  1.727087e+09  [{'amount': 30, 'recipient': 'test-to2', 'send...  "
      ]
     },
     "execution_count": 2,
     "metadata": {},
     "output_type": "execute_result"
    }
   ],
   "source": [
    "headers = {'Content-Type' : 'application/json; charset=utf-8'}\n",
    "# 블록 체인의 블록 정보를 제공하는 url(http://localhost:5000/chain)에 request 방식으로 데이터를 요청\n",
    "res = requests.get(\"http://localhost:5000/chain\", headers=headers)\n",
    "# 요청 결과 데이터(res.text)를 json 으로 로드\n",
    "status_json = json.loads(res.text)\n",
    "# 결과 데이터를 pandas의 dataframe(df_scan)으로  정리    \n",
    "df_scan = pd.DataFrame(status_json['chain'] )\n",
    "df_scan"
   ]
  }
 ],
 "metadata": {
  "kernelspec": {
   "display_name": ".venv",
   "language": "python",
   "name": "python3"
  },
  "language_info": {
   "codemirror_mode": {
    "name": "ipython",
    "version": 3
   },
   "file_extension": ".py",
   "mimetype": "text/x-python",
   "name": "python",
   "nbconvert_exporter": "python",
   "pygments_lexer": "ipython3",
   "version": "3.12.4"
  }
 },
 "nbformat": 4,
 "nbformat_minor": 2
}
