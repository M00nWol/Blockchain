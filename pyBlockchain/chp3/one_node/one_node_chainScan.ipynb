{
 "cells": [
  {
   "cell_type": "markdown",
   "metadata": {},
   "source": [
    "## 3.3 블록 스캔 사이트 만들기"
   ]
  },
  {
   "cell_type": "markdown",
   "metadata": {},
   "source": [
    "### 1. 블록 스캔 사이트 Back-end 구축하기"
   ]
  },
  {
   "cell_type": "code",
   "execution_count": 1,
   "metadata": {},
   "outputs": [
    {
     "name": "stdout",
     "output_type": "stream",
     "text": [
      " * Serving Flask app '__main__'\n",
      " * Debug mode: off\n"
     ]
    },
    {
     "name": "stderr",
     "output_type": "stream",
     "text": [
      "WARNING: This is a development server. Do not use it in a production deployment. Use a production WSGI server instead.\n",
      " * Running on http://127.0.0.1:8080\n",
      "Press CTRL+C to quit\n",
      "127.0.0.1 - - [18/Sep/2024 16:53:35] \"GET / HTTP/1.1\" 200 -\n",
      "127.0.0.1 - - [18/Sep/2024 16:53:35] \"GET /favicon.ico HTTP/1.1\" 404 -\n",
      "127.0.0.1 - - [18/Sep/2024 16:56:11] \"GET / HTTP/1.1\" 200 -\n",
      "127.0.0.1 - - [18/Sep/2024 16:56:48] \"GET / HTTP/1.1\" 200 -\n",
      "127.0.0.1 - - [18/Sep/2024 16:56:49] \"GET / HTTP/1.1\" 200 -\n",
      "127.0.0.1 - - [18/Sep/2024 16:56:52] \"GET / HTTP/1.1\" 200 -\n",
      "127.0.0.1 - - [18/Sep/2024 16:58:00] \"GET / HTTP/1.1\" 200 -\n",
      "127.0.0.1 - - [18/Sep/2024 16:58:12] \"GET / HTTP/1.1\" 200 -\n",
      "127.0.0.1 - - [18/Sep/2024 16:59:08] \"GET / HTTP/1.1\" 200 -\n",
      "127.0.0.1 - - [18/Sep/2024 16:59:19] \"GET / HTTP/1.1\" 200 -\n",
      "127.0.0.1 - - [18/Sep/2024 17:03:14] \"GET / HTTP/1.1\" 200 -\n",
      "127.0.0.1 - - [18/Sep/2024 17:03:36] \"GET / HTTP/1.1\" 200 -\n"
     ]
    }
   ],
   "source": [
    "from flask import Flask\n",
    "from datetime import datetime\n",
    "from flask import render_template\n",
    "import requests\n",
    "import os\n",
    "import json\n",
    "import pandas as pd\n",
    "\n",
    "app = Flask(__name__, template_folder=os.getcwd())\n",
    "\n",
    "@app.route('/')\n",
    "def index():\n",
    "    headers = {'Content-Type' : 'application/json; charset=utf-8'}\n",
    "    # 블록 체인 내 블록 정보를 제공하는 url(http://localhost:5000/chain)에 request 방식으로 데이터를 요청\n",
    "    res = requests.get(\"http://localhost:5000/chain\", headers=headers)\n",
    "    # 요청 결과 데이터(res.text)를 json 으로 로드\n",
    "    status_json = json.loads(res.text)\n",
    "    # 결과 데이터를 pandas의 dataframe(df_scan)으로  정리\n",
    "    df_scan = pd.DataFrame(status_json['chain'] )\n",
    "     # Front 구성내용이 담길 html(one_node_scan.html)파일에 Dataframe 정보(df_scan)과 블록의 길이(block_len)을 제공\n",
    "    return render_template('/one_node_scan.html', df_scan = df_scan, block_len = len(df_scan))\n",
    "\n",
    "app.run(port=8080)"
   ]
  },
  {
   "cell_type": "code",
   "execution_count": null,
   "metadata": {},
   "outputs": [
    {
     "data": {
      "text/html": [
       "<div>\n",
       "<style scoped>\n",
       "    .dataframe tbody tr th:only-of-type {\n",
       "        vertical-align: middle;\n",
       "    }\n",
       "\n",
       "    .dataframe tbody tr th {\n",
       "        vertical-align: top;\n",
       "    }\n",
       "\n",
       "    .dataframe thead th {\n",
       "        text-align: right;\n",
       "    }\n",
       "</style>\n",
       "<table border=\"1\" class=\"dataframe\">\n",
       "  <thead>\n",
       "    <tr style=\"text-align: right;\">\n",
       "      <th></th>\n",
       "      <th>index</th>\n",
       "      <th>nonce</th>\n",
       "      <th>previous_hash</th>\n",
       "      <th>timestamp</th>\n",
       "      <th>transactions</th>\n",
       "    </tr>\n",
       "  </thead>\n",
       "  <tbody>\n",
       "    <tr>\n",
       "      <th>0</th>\n",
       "      <td>1</td>\n",
       "      <td>100</td>\n",
       "      <td>1</td>\n",
       "      <td>1.726643e+09</td>\n",
       "      <td>[]</td>\n",
       "    </tr>\n",
       "    <tr>\n",
       "      <th>1</th>\n",
       "      <td>2</td>\n",
       "      <td>3317820</td>\n",
       "      <td>aa52b0acddce3eabfb2eab9048337e26bb53e7c80b12b5...</td>\n",
       "      <td>1.726643e+09</td>\n",
       "      <td>[{'amount': 3, 'recipient': 'test-to', 'sender...</td>\n",
       "    </tr>\n",
       "    <tr>\n",
       "      <th>2</th>\n",
       "      <td>3</td>\n",
       "      <td>4809066</td>\n",
       "      <td>01de18761e20af0d9d51e026b18230ee6665bf932a7891...</td>\n",
       "      <td>1.726643e+09</td>\n",
       "      <td>[{'amount': 30, 'recipient': 'test-to2', 'send...</td>\n",
       "    </tr>\n",
       "  </tbody>\n",
       "</table>\n",
       "</div>"
      ],
      "text/plain": [
       "   index  ...                                       transactions\n",
       "0      1  ...                                                 []\n",
       "1      2  ...  [{'amount': 3, 'recipient': 'test-to', 'sender...\n",
       "2      3  ...  [{'amount': 30, 'recipient': 'test-to2', 'send...\n",
       "\n",
       "[3 rows x 5 columns]"
      ]
     },
     "execution_count": 4,
     "metadata": {},
     "output_type": "execute_result"
    }
   ],
   "source": [
    "headers = {'Content-Type' : 'application/json; charset=utf-8'}\n",
    "# 블록체인 내 블록 정보를 제공하는 url(http://localhost:5000/chain)에 request 방식으로 데이터를 요청\n",
    "res = requests.get(\"http://localhost:5000/chain\", headers=headers)\n",
    "# 요청 결과 데이터(res.text)를 json으로 로드\n",
    "status_json = json.loads(res.text)\n",
    "# 결과 데이터를 pandas의 데이터프레임(df_scan)으로 정리\n",
    "df_scan = pd.DataFrame(status_json['chain'])\n",
    "df_scan"
   ]
  }
 ],
 "metadata": {
  "kernelspec": {
   "display_name": ".venv",
   "language": "python",
   "name": "python3"
  },
  "language_info": {
   "codemirror_mode": {
    "name": "ipython",
    "version": 3
   },
   "file_extension": ".py",
   "mimetype": "text/x-python",
   "name": "python",
   "nbconvert_exporter": "python",
   "pygments_lexer": "ipython3",
   "version": "3.12.4"
  }
 },
 "nbformat": 4,
 "nbformat_minor": 2
}
