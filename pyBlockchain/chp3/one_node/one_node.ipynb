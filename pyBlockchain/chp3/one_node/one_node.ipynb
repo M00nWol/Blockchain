{
 "cells": [
  {
   "cell_type": "markdown",
   "metadata": {},
   "source": [
    "## 3.1 블록체인 노드 구축"
   ]
  },
  {
   "cell_type": "markdown",
   "metadata": {},
   "source": [
    "### 1_관련 패키지 import"
   ]
  },
  {
   "cell_type": "code",
   "execution_count": 1,
   "metadata": {},
   "outputs": [],
   "source": [
    "import hashlib          # hash 함수용 sha256 사용할 라이브러리\n",
    "import json\n",
    "from time import time\n",
    "import random\n",
    "import requests \n",
    "from flask import Flask, request, jsonify"
   ]
  },
  {
   "cell_type": "markdown",
   "metadata": {},
   "source": [
    "### 2_객체 생성"
   ]
  },
  {
   "cell_type": "code",
   "execution_count": 2,
   "metadata": {},
   "outputs": [],
   "source": [
    "class Blockchain(object):\n",
    "    # 1_객체 생성\n",
    "    def __init__(self):\n",
    "        self.chain = []                                 # chain에 여러 block들 들어옴\n",
    "        self.current_transaction = []                   # 임시 transaction 넣어줌\n",
    "        self.nodes = set()                              # Node 목록을 보관\n",
    "        self.new_block(previous_hash = 1, proof = 100)  # genesis block 생성\n",
    "\n",
    "    # 2_해시 암호화 함수\n",
    "    @staticmethod\n",
    "    def hash(block):\n",
    "        block_string = json.dumps(block, sort_keys=True).encode()   # hash 라이브러리로 sha256 사용\n",
    "        return hashlib.sha256(block_string).hexdigest()             \n",
    "    \n",
    "    # 3_마지막 블록 호출 함수\n",
    "    @property\n",
    "    def last_block(self):\n",
    "        return self.chain[-1]                           # 체인의 마지막 블록 가져오기!\n",
    "\n",
    "    # 4_블록 검증 함수\n",
    "    @staticmethod\n",
    "    def valid_proof(last_proof, proof):\n",
    "        guess = str(last_proof + proof).encode()        # 전 proof와 구할 proof 문자열 연결 \n",
    "        guess_hash = hashlib.sha256(guess).hexdigest()  # 이 hash 값 저장\n",
    "        return guess_hash[:4] == \"0000\"                 # 앞 4자리가 0000이면 Trus (알맞은 nonce 값을 찾음)\n",
    "    \n",
    "    # 5_PoW(작업 증명) 함수\n",
    "    def pow(self, last_proof):\n",
    "        proof = random.randint(-1000000, 1000000)\n",
    "        while self.valid_proof(last_proof, proof) is False: # valid proof 함수 활용(아래 나옴), 맞을 때까지 반복적으로 검증\n",
    "            proof = random.randint(-100000, 10000000)\n",
    "        return proof\n",
    "    \n",
    "    # 6_거래 내역 추가 함수\n",
    "    def new_transaction(self, sender, recipient, amount):\n",
    "        self.current_transaction.append(\n",
    "            {\n",
    "                'sender' : sender, \n",
    "                'recipient' : recipient,\n",
    "                'amount' : amount,\n",
    "                'timestamp' : time()\n",
    "            }\n",
    "        )\n",
    "        return self.last_block['index'] + 1\n",
    "    \n",
    "    # 7_신규 블록 생성 함수\n",
    "    def new_block(self, proof, previous_hash = None):\n",
    "        block = {\n",
    "            'index':len(self.chain)+1,\n",
    "            'timestamp' : time(),\n",
    "            'transactions' : self.current_transaction,\n",
    "            'nonce' : proof,\n",
    "            'previous_hash' : previous_hash or self.hash(self.chain[-1]),\n",
    "        }\n",
    "        self.current_transaction = []\n",
    "        self.chain.append(block)\n",
    "        return block\n",
    "    \n",
    "    # 8_블록 검증 함수\n",
    "    def valid_chain(self,chain):\n",
    "        last_block = chain[0]\n",
    "        current_index = 1\n",
    "\n",
    "        while current_index < len(chain):\n",
    "            block = chain[current_index]\n",
    "            print('%s' %last_block)\n",
    "            print('%s' %block)\n",
    "            print('\\n------------\\n')\n",
    "            if block['previous_hash'] != self.hash(last_block):\n",
    "                return False\n",
    "            last_block = block\n",
    "            current_index += 1\n",
    "            \n",
    "        return True"
   ]
  },
  {
   "cell_type": "markdown",
   "metadata": {},
   "source": [
    "### 3_블록체인 객체 기반으로 노드 생성"
   ]
  },
  {
   "cell_type": "code",
   "execution_count": 3,
   "metadata": {},
   "outputs": [
    {
     "name": "stdout",
     "output_type": "stream",
     "text": [
      " * Serving Flask app '__main__'\n",
      " * Debug mode: off\n"
     ]
    },
    {
     "name": "stderr",
     "output_type": "stream",
     "text": [
      "WARNING: This is a development server. Do not use it in a production deployment. Use a production WSGI server instead.\n",
      " * Running on all addresses (0.0.0.0)\n",
      " * Running on http://127.0.0.1:5000\n",
      " * Running on http://192.168.76.28:5000\n",
      "Press CTRL+C to quit\n",
      "127.0.0.1 - - [18/Sep/2024 16:53:35] \"GET /chain HTTP/1.1\" 200 -\n"
     ]
    },
    {
     "name": "stdout",
     "output_type": "stream",
     "text": [
      "chain info requested!!\n"
     ]
    },
    {
     "name": "stderr",
     "output_type": "stream",
     "text": [
      "127.0.0.1 - - [18/Sep/2024 16:54:14] \"GET /chain HTTP/1.1\" 200 -\n"
     ]
    },
    {
     "name": "stdout",
     "output_type": "stream",
     "text": [
      "chain info requested!!\n"
     ]
    },
    {
     "name": "stderr",
     "output_type": "stream",
     "text": [
      "127.0.0.1 - - [18/Sep/2024 16:54:16] \"POST /transactions/new HTTP/1.1\" 201 -\n"
     ]
    },
    {
     "name": "stdout",
     "output_type": "stream",
     "text": [
      "transactions_new!!! :  {'sender': 'test-from', 'recipient': 'test-to', 'amount': 3}\n"
     ]
    },
    {
     "name": "stderr",
     "output_type": "stream",
     "text": [
      "127.0.0.1 - - [18/Sep/2024 16:54:18] \"GET /chain HTTP/1.1\" 200 -\n"
     ]
    },
    {
     "name": "stdout",
     "output_type": "stream",
     "text": [
      "chain info requested!!\n"
     ]
    },
    {
     "name": "stderr",
     "output_type": "stream",
     "text": [
      "127.0.0.1 - - [18/Sep/2024 16:54:20] \"GET /mine HTTP/1.1\" 200 -\n"
     ]
    },
    {
     "name": "stdout",
     "output_type": "stream",
     "text": [
      "MINING STARTED\n",
      "MINING FINISHED\n"
     ]
    },
    {
     "name": "stderr",
     "output_type": "stream",
     "text": [
      "127.0.0.1 - - [18/Sep/2024 16:54:22] \"GET /chain HTTP/1.1\" 200 -\n"
     ]
    },
    {
     "name": "stdout",
     "output_type": "stream",
     "text": [
      "chain info requested!!\n"
     ]
    },
    {
     "name": "stderr",
     "output_type": "stream",
     "text": [
      "127.0.0.1 - - [18/Sep/2024 16:54:24] \"POST /transactions/new HTTP/1.1\" 201 -\n"
     ]
    },
    {
     "name": "stdout",
     "output_type": "stream",
     "text": [
      "transactions_new!!! :  {'sender': 'test-from', 'recipient': 'test-to2', 'amount': 30}\n"
     ]
    },
    {
     "name": "stderr",
     "output_type": "stream",
     "text": [
      "127.0.0.1 - - [18/Sep/2024 16:54:26] \"POST /transactions/new HTTP/1.1\" 201 -\n"
     ]
    },
    {
     "name": "stdout",
     "output_type": "stream",
     "text": [
      "transactions_new!!! :  {'sender': 'test-from', 'recipient': 'test-to3', 'amount': 300}\n",
      "MINING STARTED\n"
     ]
    },
    {
     "name": "stderr",
     "output_type": "stream",
     "text": [
      "127.0.0.1 - - [18/Sep/2024 16:54:29] \"GET /mine HTTP/1.1\" 200 -\n"
     ]
    },
    {
     "name": "stdout",
     "output_type": "stream",
     "text": [
      "MINING FINISHED\n"
     ]
    },
    {
     "name": "stderr",
     "output_type": "stream",
     "text": [
      "127.0.0.1 - - [18/Sep/2024 16:54:31] \"GET /chain HTTP/1.1\" 200 -\n"
     ]
    },
    {
     "name": "stdout",
     "output_type": "stream",
     "text": [
      "chain info requested!!\n"
     ]
    },
    {
     "name": "stderr",
     "output_type": "stream",
     "text": [
      "127.0.0.1 - - [18/Sep/2024 16:56:11] \"GET /chain HTTP/1.1\" 200 -\n"
     ]
    },
    {
     "name": "stdout",
     "output_type": "stream",
     "text": [
      "chain info requested!!\n"
     ]
    },
    {
     "name": "stderr",
     "output_type": "stream",
     "text": [
      "127.0.0.1 - - [18/Sep/2024 16:56:48] \"GET /chain HTTP/1.1\" 200 -\n"
     ]
    },
    {
     "name": "stdout",
     "output_type": "stream",
     "text": [
      "chain info requested!!\n"
     ]
    },
    {
     "name": "stderr",
     "output_type": "stream",
     "text": [
      "127.0.0.1 - - [18/Sep/2024 16:56:49] \"GET /chain HTTP/1.1\" 200 -\n"
     ]
    },
    {
     "name": "stdout",
     "output_type": "stream",
     "text": [
      "chain info requested!!\n"
     ]
    },
    {
     "name": "stderr",
     "output_type": "stream",
     "text": [
      "127.0.0.1 - - [18/Sep/2024 16:56:52] \"GET /chain HTTP/1.1\" 200 -\n"
     ]
    },
    {
     "name": "stdout",
     "output_type": "stream",
     "text": [
      "chain info requested!!\n"
     ]
    },
    {
     "name": "stderr",
     "output_type": "stream",
     "text": [
      "127.0.0.1 - - [18/Sep/2024 16:58:00] \"GET /chain HTTP/1.1\" 200 -\n"
     ]
    },
    {
     "name": "stdout",
     "output_type": "stream",
     "text": [
      "chain info requested!!\n"
     ]
    },
    {
     "name": "stderr",
     "output_type": "stream",
     "text": [
      "127.0.0.1 - - [18/Sep/2024 16:58:12] \"GET /chain HTTP/1.1\" 200 -\n"
     ]
    },
    {
     "name": "stdout",
     "output_type": "stream",
     "text": [
      "chain info requested!!\n"
     ]
    },
    {
     "name": "stderr",
     "output_type": "stream",
     "text": [
      "127.0.0.1 - - [18/Sep/2024 16:59:08] \"GET /chain HTTP/1.1\" 200 -\n"
     ]
    },
    {
     "name": "stdout",
     "output_type": "stream",
     "text": [
      "chain info requested!!\n"
     ]
    },
    {
     "name": "stderr",
     "output_type": "stream",
     "text": [
      "127.0.0.1 - - [18/Sep/2024 16:59:19] \"GET /chain HTTP/1.1\" 200 -\n"
     ]
    },
    {
     "name": "stdout",
     "output_type": "stream",
     "text": [
      "chain info requested!!\n"
     ]
    },
    {
     "name": "stderr",
     "output_type": "stream",
     "text": [
      "127.0.0.1 - - [18/Sep/2024 17:03:14] \"GET /chain HTTP/1.1\" 200 -\n"
     ]
    },
    {
     "name": "stdout",
     "output_type": "stream",
     "text": [
      "chain info requested!!\n"
     ]
    },
    {
     "name": "stderr",
     "output_type": "stream",
     "text": [
      "127.0.0.1 - - [18/Sep/2024 17:03:36] \"GET /chain HTTP/1.1\" 200 -\n"
     ]
    },
    {
     "name": "stdout",
     "output_type": "stream",
     "text": [
      "chain info requested!!\n"
     ]
    }
   ],
   "source": [
    "# 1. 기본정보 설정\n",
    "blockchain = Blockchain()\n",
    "my_ip = '0.0.0.0'\n",
    "my_port = '5000'\n",
    "node_identifier = 'node_'+my_port\n",
    "mine_owner = 'master'\n",
    "mine_profit = 0.1\n",
    "\n",
    "app = Flask(__name__)\n",
    "\n",
    "# 2. 블록 정보 호출 함수 full_chain()\n",
    "@app.route('/chain', methods=['GET'])\n",
    "def full_chain():\n",
    "    print('chain info requested!!')\n",
    "    response = {\n",
    "        'chain' : blockchain.chain,\n",
    "        'length' : len(blockchain.chain),\n",
    "    }\n",
    "    return jsonify(response), 200\n",
    "\n",
    "# 3. 신규 거래 추가 함수 new_transaction()\n",
    "@app.route('/transactions/new', methods = ['POST'])\n",
    "def new_transaction():\n",
    "    values = request.get_json()\n",
    "    print(\"transactions_new!!! : \", values)\n",
    "    required = ['sender', 'recipient', 'amount']\n",
    "\n",
    "    if not all(k in values for k in required):\n",
    "        return 'missing values', 400\n",
    "    \n",
    "    index = blockchain.new_transaction(values['sender'], values['recipient'], values['amount'])\n",
    "    response = {'message': 'Transaction will be added to Block {%s}' % index}\n",
    "\n",
    "    return jsonify(response), 201\n",
    "\n",
    "# 4. 채굴 함수 mine()\n",
    "@app.route('/mine', methods=['GET'])\n",
    "def mine():\n",
    "    print(\"MINING STARTED\")\n",
    "    last_block = blockchain.last_block\n",
    "    last_proof= last_block['nonce']\n",
    "    proof = blockchain.pow(last_proof)\n",
    "\n",
    "    blockchain.new_transaction(\n",
    "        sender = mine_owner,\n",
    "        recipient=node_identifier,\n",
    "        amount = mine_profit # coinbase transaction\n",
    "    )\n",
    "\n",
    "    previous_hash = blockchain.hash(last_block)\n",
    "    block = blockchain.new_block(proof, previous_hash)\n",
    "    print(\"MINING FINISHED\")\n",
    "\n",
    "    response = {\n",
    "        'message' : 'new block found',\n",
    "        'index' : block['index'],\n",
    "        'transactions' : block['transactions'],\n",
    "        'nonce' : block['nonce'],\n",
    "        'previous_hash' : block['previous_hash']\n",
    "    }\n",
    "\n",
    "    return jsonify(response), 200\n",
    "\n",
    "# 노드 시작\n",
    "if __name__ == '__main__':\n",
    "    app.run(host=my_ip, port=my_port)"
   ]
  }
 ],
 "metadata": {
  "kernelspec": {
   "display_name": ".venv",
   "language": "python",
   "name": "python3"
  },
  "language_info": {
   "codemirror_mode": {
    "name": "ipython",
    "version": 3
   },
   "file_extension": ".py",
   "mimetype": "text/x-python",
   "name": "python",
   "nbconvert_exporter": "python",
   "pygments_lexer": "ipython3",
   "version": "3.12.4"
  }
 },
 "nbformat": 4,
 "nbformat_minor": 2
}
