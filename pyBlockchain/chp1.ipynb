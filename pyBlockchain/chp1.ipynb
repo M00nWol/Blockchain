{
 "cells": [
  {
   "cell_type": "markdown",
   "metadata": {},
   "source": [
    "# Chp1.2_블록체인의 정의"
   ]
  },
  {
   "cell_type": "markdown",
   "metadata": {},
   "source": [
    "## [코드 1-2-1] 파이썬으로 만드는 블록체인"
   ]
  },
  {
   "cell_type": "code",
   "execution_count": null,
   "metadata": {},
   "outputs": [],
   "source": [
    "## 블록1\n",
    "block1 = {'INDEX':0,\n",
    "        '판매자': '파이썬',\n",
    "        '구매자': '김민수',\n",
    "        '개수':'3개',\n",
    "        '시간':'1990-01-01 00:00:00',\n",
    "        'previous_block': None # previous_block이 chain 역할을 한다\n",
    "}\n",
    "\n",
    "## 블록2\n",
    "block2 = {'INDEX':1,\n",
    "        '판매자': '김민수',\n",
    "        '구매자': '김영수',\n",
    "        '개수':'3개',\n",
    "        '시간':'1990-01-02 01:02:03',\n",
    "        'previous_block': block1 # [그림 1-2-3]의 체인1\n",
    "}\n",
    "\n",
    "## 블록3\n",
    "block3 = {'INDEX':2,\n",
    "        '판매자': '김영수',\n",
    "        '구매자': '박명수',\n",
    "        '개수':'3개',\n",
    "        '시간':'1990-01-03 02:03:04',\n",
    "        'previous_block': block2 # [그림 1-2-3]의 체인2\n",
    "    \n",
    "}"
   ]
  },
  {
   "cell_type": "markdown",
   "metadata": {},
   "source": [
    "## [코드 1-2-2] 파이썬의 블록체인에 저장된 거래 내역"
   ]
  },
  {
   "cell_type": "code",
   "execution_count": 3,
   "metadata": {},
   "outputs": [],
   "source": [
    "## 블록1\n",
    "block1 =  {'INDEX':0,\n",
    "            '판매자' : '파이썬',\n",
    "            '구매자' : '김민수',\n",
    "            '개수' : '3개',\n",
    "            '시간' : '1990-01-01 00:00:00',\n",
    "            'previous_block' : None\n",
    "          }\n",
    "          \n",
    " ## 블록2\n",
    "block2 =  {'INDEX':1,\n",
    "            '판매자' : '김민수',\n",
    "            '구매자' : '김영수',\n",
    "            '개수' : '3개',\n",
    "           '시간' : '1990-01-02 01:02:03',\n",
    "           'previous_block' : block1\n",
    "          }\n",
    "   \n",
    "## 블록3\n",
    "block3 =  {'INDEX':3,\n",
    "            '판매자' : '김영수',\n",
    "            '구매자' : '박명수',\n",
    "            '개수' : '3개',\n",
    "            '시간' : '1990-01-03 02:03:04',\n",
    "           'previous_block' : block2\n",
    "          }\n",
    "\n",
    "## 블록4\n",
    "block4 =  {'INDEX':4,\n",
    "            '판매자' : '박명수',\n",
    "            '구매자' : '이미래',\n",
    "            '개수' : '3개',\n",
    "            '시간' : '1990-01-04 02:03:04',\n",
    "           'previous_block' : block3\n",
    "          }\n",
    "\n",
    "## 블록5\n",
    "block5 =  {'INDEX':5,\n",
    "            '판매자' : '이미래',\n",
    "            '구매자' : '최용수',\n",
    "            '개수' : '3개',\n",
    "            '시간' : '1990-01-05 02:03:04',\n",
    "           'previous_block' : block4\n",
    "          }\n",
    "\n",
    "## 블록6\n",
    "block6 =  {'INDEX':6,\n",
    "            '판매자' : '최용수',\n",
    "            '구매자' : '강영희',\n",
    "            '개수' : '3개',\n",
    "            '시간' : '1990-01-06 02:03:04',\n",
    "           'previous_block' : block5\n",
    "          }"
   ]
  },
  {
   "cell_type": "markdown",
   "metadata": {},
   "source": [
    "# Chp1.3_블록체인의 핵심: 암호해시"
   ]
  },
  {
   "cell_type": "markdown",
   "metadata": {},
   "source": [
    "## [코드 1-3-1] 파이썬에서의 해시암호"
   ]
  },
  {
   "cell_type": "code",
   "execution_count": 13,
   "metadata": {},
   "outputs": [
    {
     "data": {
      "text/plain": [
       "'bd6341f9f5f40ffd309379c106165b4a064e8d90e9406016cc6b5638bed4f15c'"
      ]
     },
     "execution_count": 13,
     "metadata": {},
     "output_type": "execute_result"
    }
   ],
   "source": [
    "import hashlib\n",
    "hashlib.sha256(str(\"원본텍스트\").encode()).hexdigest()"
   ]
  },
  {
   "cell_type": "code",
   "execution_count": 5,
   "metadata": {},
   "outputs": [
    {
     "data": {
      "text/plain": [
       "'94a6771df8c6866a45d404598f230766a8faae53e7bd579eff9e5bdbe20b170a'"
      ]
     },
     "execution_count": 5,
     "metadata": {},
     "output_type": "execute_result"
    }
   ],
   "source": [
    "import hashlib\n",
    "hashlib.sha256(str(\"원본 텍스트\").encode()).hexdigest()"
   ]
  },
  {
   "cell_type": "code",
   "execution_count": 6,
   "metadata": {},
   "outputs": [
    {
     "data": {
      "text/plain": [
       "'03ac674216f3e15c761ee1a5e255f067953623c8b388b4459e13f978d7c846f4'"
      ]
     },
     "execution_count": 6,
     "metadata": {},
     "output_type": "execute_result"
    }
   ],
   "source": [
    "import hashlib\n",
    "hashlib.sha256(str(\"1234\").encode()).hexdigest()"
   ]
  },
  {
   "cell_type": "code",
   "execution_count": 11,
   "metadata": {},
   "outputs": [
    {
     "data": {
      "text/plain": [
       "'d93889de57bff13ffb490e2aa01005d3f0dde776db772410b79ff9486038b2e1'"
      ]
     },
     "execution_count": 11,
     "metadata": {},
     "output_type": "execute_result"
    }
   ],
   "source": [
    "import hashlib\n",
    "hashlib.sha256(str(\"\"\"\"동해 물과 백두산이 마르고 닳도록\n",
    "                     하느님이 보우하사 우리나라 만세.\n",
    "                     무궁화 삼천리 화려 강산\n",
    "                     대한 사람, 대한으로 길이 보전하세.\"\"\").encode()).hexdigest()"
   ]
  },
  {
   "cell_type": "code",
   "execution_count": 12,
   "metadata": {},
   "outputs": [
    {
     "data": {
      "text/plain": [
       "'94a6771df8c6866a45d404598f230766a8faae53e7bd579eff9e5bdbe20b170a'"
      ]
     },
     "execution_count": 12,
     "metadata": {},
     "output_type": "execute_result"
    }
   ],
   "source": [
    "import hashlib\n",
    "hashlib.sha256(str(\"원본 텍스트\").encode()).hexdigest()"
   ]
  },
  {
   "cell_type": "markdown",
   "metadata": {},
   "source": [
    "## [코드 1-3-2] 암호해시를 활용하여 만든 블록체인"
   ]
  },
  {
   "cell_type": "code",
   "execution_count": 19,
   "metadata": {},
   "outputs": [
    {
     "name": "stdout",
     "output_type": "stream",
     "text": [
      "{'INDEX': 6, '판매자': '최용수', '구매자': '강영희', '개수': '3개', '시간': '1990-01-06 02:03:04', 'previous_block': {'INDEX': 5, '판매자': '이미래', '구매자': '최용수', '개수': '3개', '시간': '1990-01-05 02:03:04', 'previous_block': {'INDEX': 4, '판매자': '박명수', '구매자': '이미래', '개수': '3개', '시간': '1990-01-04 02:03:04', 'previous_block': {'INDEX': 3, '판매자': '김영수', '구매자': '박명수', '개수': '3개', '시간': '1990-01-03 02:03:04', 'previous_block': {'INDEX': 1, '판매자': '김민수', '구매자': '김영수', '개수': '3개', '시간': '1990-01-02 01:02:03', 'previous_block': {'INDEX': 0, '판매자': '파이썬', '구매자': '김민수', '개수': '3개', '시간': '1990-01-01 00:00:00', 'previous_block': None}}}}}}\n",
      "{'INDEX': 1, '판매자': '김민수', '구매자': '김영수', '개수': '3개', '시간': '1990-01-02 01:02:03', 'previous_block': '5bb813d0e4e5f5bc1da255caac29b6825c64a26c5327e517ef2d2f560f62c0f2'}\n"
     ]
    }
   ],
   "source": [
    "## 변경 전 블록6\n",
    "block6 =  {'INDEX':6,\n",
    "            '판매자' : '최용수',\n",
    "            '구매자' : '강영희',\n",
    "            '개수' : '3개',\n",
    "            '시간' : '1990-01-06 02:03:04',\n",
    "           'previous_block' : block5\n",
    "          }\n",
    "print(block6 )\n",
    "\n",
    "## 변경 후 블록6\n",
    "block6 =  {'INDEX':1,\n",
    "            '판매자' : '김민수',\n",
    "            '구매자' : '김영수',\n",
    "            '개수' : '3개',\n",
    "            '시간' : '1990-01-02 01:02:03',\n",
    "           'previous_block' : hashlib.sha256(str(block5).encode()).hexdigest()\n",
    "          }\n",
    "print(block6 )"
   ]
  },
  {
   "cell_type": "markdown",
   "metadata": {},
   "source": [
    "# Chp1.4_블록체인의 구성요소"
   ]
  },
  {
   "cell_type": "markdown",
   "metadata": {},
   "source": [
    "## [코드 1-4-1] 블록들의 연결"
   ]
  },
  {
   "cell_type": "code",
   "execution_count": 20,
   "metadata": {},
   "outputs": [
    {
     "data": {
      "text/plain": [
       "{'header': {'블록의 생성 번호': 0,\n",
       "  '블록의 생성 시간': '2024-08-18 &H:23:54',\n",
       "  '블록의 채굴자': '0xea674fdde714fd979de3edf0f56aa9716b898ec8',\n",
       "  '블록 채굴자의 보상 값': 2.132,\n",
       "  '블록 채굴 난이도': 12382889997310022,\n",
       "  'Nonce': '0x7ccf42b8e05d031f',\n",
       "  '블록 사이즈': '178556 bytes',\n",
       "  '이전 블록의 해시값': '0xe1f3d0e83542e20735d453006cc6d8975920e7aec951c3b974eade52901e97e7',\n",
       "  '이번 블록 몸통 내역의 해시값': '63d15b775100ee6041c51f515c06bb1e5f0b296b99fbd3e3c9f25dfc2a43e042'},\n",
       " 'transaction': {'거래내역1': {'판매자': '파이썬',\n",
       "   '구매자': '김민수',\n",
       "   '개수': '3개',\n",
       "   '거래시간': '1990년 1월 1일 00시 00분 00초',\n",
       "   '거래수수료': '0.001개'},\n",
       "  '거래내역2': {'판매자': '감민수',\n",
       "   '구매자': '김영수',\n",
       "   '개수': '3개',\n",
       "   '거래시간': '1990년 1월 2일 01시 02분 03초',\n",
       "   '거래수수료': '0.001개'}}}"
      ]
     },
     "execution_count": 20,
     "metadata": {},
     "output_type": "execute_result"
    }
   ],
   "source": [
    "import datetime\n",
    "import hashlib\n",
    "\n",
    "block_body = { \"거래내역1\" : {\n",
    "                        '판매자': '파이썬',\n",
    "                        '구매자': '김민수',\n",
    "                        '개수': '3개',\n",
    "                        '거래시간': '1990년 1월 1일 00시 00분 00초',\n",
    "                        '거래수수료' : '0.001개'\n",
    "                        },\n",
    "              \"거래내역2\": {\n",
    "                        '판매자': '감민수',\n",
    "                        '구매자': '김영수',\n",
    "                        '개수': '3개',\n",
    "                        '거래시간': '1990년 1월 2일 01시 02분 03초',\n",
    "                        '거래수수료' : '0.001개'\n",
    "                        }\n",
    "            }\n",
    "\n",
    "block_header = {'블록의 생성 번호': 0,\n",
    "                '블록의 생성 시간': datetime.datetime.now().strftime(\"%Y-%m-%d &H:%M:%S\"),\n",
    "                '블록의 채굴자':\"0xea674fdde714fd979de3edf0f56aa9716b898ec8\",\n",
    "                '블록 채굴자의 보상 값':2.132,\n",
    "                '블록 채굴 난이도': 12382889997310022,\n",
    "                'Nonce'  : '0x7ccf42b8e05d031f',\n",
    "                '블록 사이즈' : '178556 bytes',\n",
    "                '이전 블록의 해시값' : '0xe1f3d0e83542e20735d453006cc6d8975920e7aec951c3b974eade52901e97e7',\n",
    "                '이번 블록 몸통 내역의 해시값': hashlib.sha256(str(block_body).encode()).hexdigest()\n",
    "                }\n",
    "\n",
    "body_hash = hashlib.sha256(str(block_body).encode()).hexdigest()\n",
    "\n",
    "block1 = {'header' : block_header,\n",
    "          'transaction' : block_body}\n",
    "\n",
    "block1"
   ]
  }
 ],
 "metadata": {
  "kernelspec": {
   "display_name": "Python 3",
   "language": "python",
   "name": "python3"
  },
  "language_info": {
   "codemirror_mode": {
    "name": "ipython",
    "version": 3
   },
   "file_extension": ".py",
   "mimetype": "text/x-python",
   "name": "python",
   "nbconvert_exporter": "python",
   "pygments_lexer": "ipython3",
   "version": "3.11.9"
  }
 },
 "nbformat": 4,
 "nbformat_minor": 2
}
