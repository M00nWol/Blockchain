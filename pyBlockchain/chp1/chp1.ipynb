{
 "cells": [
  {
   "cell_type": "markdown",
   "metadata": {},
   "source": [
    "# Chp1.2_블록체인의 정의"
   ]
  },
  {
   "cell_type": "markdown",
   "metadata": {},
   "source": [
    "## [코드 1-2-1] 파이썬으로 만드는 블록체인"
   ]
  },
  {
   "cell_type": "code",
   "execution_count": null,
   "metadata": {},
   "outputs": [],
   "source": [
    "## 블록1\n",
    "block1 = {'INDEX':0,\n",
    "        '판매자': '파이썬',\n",
    "        '구매자': '김민수',\n",
    "        '개수':'3개',\n",
    "        '시간':'1990-01-01 00:00:00',\n",
    "        'previous_block': None # previous_block이 chain 역할을 한다\n",
    "}\n",
    "\n",
    "## 블록2\n",
    "block2 = {'INDEX':1,\n",
    "        '판매자': '김민수',\n",
    "        '구매자': '김영수',\n",
    "        '개수':'3개',\n",
    "        '시간':'1990-01-02 01:02:03',\n",
    "        'previous_block': block1 # [그림 1-2-3]의 체인1\n",
    "}\n",
    "\n",
    "## 블록3\n",
    "block3 = {'INDEX':2,\n",
    "        '판매자': '김영수',\n",
    "        '구매자': '박명수',\n",
    "        '개수':'3개',\n",
    "        '시간':'1990-01-03 02:03:04',\n",
    "        'previous_block': block2 # [그림 1-2-3]의 체인2\n",
    "    \n",
    "}"
   ]
  },
  {
   "cell_type": "markdown",
   "metadata": {},
   "source": [
    "## [코드 1-2-2] 파이썬의 블록체인에 저장된 거래 내역"
   ]
  },
  {
   "cell_type": "code",
   "execution_count": 3,
   "metadata": {},
   "outputs": [],
   "source": [
    "## 블록1\n",
    "block1 =  {'INDEX':0,\n",
    "            '판매자' : '파이썬',\n",
    "            '구매자' : '김민수',\n",
    "            '개수' : '3개',\n",
    "            '시간' : '1990-01-01 00:00:00',\n",
    "            'previous_block' : None\n",
    "          }\n",
    "          \n",
    " ## 블록2\n",
    "block2 =  {'INDEX':1,\n",
    "            '판매자' : '김민수',\n",
    "            '구매자' : '김영수',\n",
    "            '개수' : '3개',\n",
    "           '시간' : '1990-01-02 01:02:03',\n",
    "           'previous_block' : block1\n",
    "          }\n",
    "   \n",
    "## 블록3\n",
    "block3 =  {'INDEX':3,\n",
    "            '판매자' : '김영수',\n",
    "            '구매자' : '박명수',\n",
    "            '개수' : '3개',\n",
    "            '시간' : '1990-01-03 02:03:04',\n",
    "           'previous_block' : block2\n",
    "          }\n",
    "\n",
    "## 블록4\n",
    "block4 =  {'INDEX':4,\n",
    "            '판매자' : '박명수',\n",
    "            '구매자' : '이미래',\n",
    "            '개수' : '3개',\n",
    "            '시간' : '1990-01-04 02:03:04',\n",
    "           'previous_block' : block3\n",
    "          }\n",
    "\n",
    "## 블록5\n",
    "block5 =  {'INDEX':5,\n",
    "            '판매자' : '이미래',\n",
    "            '구매자' : '최용수',\n",
    "            '개수' : '3개',\n",
    "            '시간' : '1990-01-05 02:03:04',\n",
    "           'previous_block' : block4\n",
    "          }\n",
    "\n",
    "## 블록6\n",
    "block6 =  {'INDEX':6,\n",
    "            '판매자' : '최용수',\n",
    "            '구매자' : '강영희',\n",
    "            '개수' : '3개',\n",
    "            '시간' : '1990-01-06 02:03:04',\n",
    "           'previous_block' : block5\n",
    "          }"
   ]
  },
  {
   "cell_type": "markdown",
   "metadata": {},
   "source": [
    "# Chp1.3_블록체인의 핵심: 암호해시"
   ]
  },
  {
   "cell_type": "markdown",
   "metadata": {},
   "source": [
    "## [코드 1-3-1] 파이썬에서의 해시암호"
   ]
  },
  {
   "cell_type": "code",
   "execution_count": 13,
   "metadata": {},
   "outputs": [
    {
     "data": {
      "text/plain": [
       "'bd6341f9f5f40ffd309379c106165b4a064e8d90e9406016cc6b5638bed4f15c'"
      ]
     },
     "execution_count": 13,
     "metadata": {},
     "output_type": "execute_result"
    }
   ],
   "source": [
    "import hashlib\n",
    "hashlib.sha256(str(\"원본텍스트\").encode()).hexdigest()"
   ]
  },
  {
   "cell_type": "code",
   "execution_count": 5,
   "metadata": {},
   "outputs": [
    {
     "data": {
      "text/plain": [
       "'94a6771df8c6866a45d404598f230766a8faae53e7bd579eff9e5bdbe20b170a'"
      ]
     },
     "execution_count": 5,
     "metadata": {},
     "output_type": "execute_result"
    }
   ],
   "source": [
    "import hashlib\n",
    "hashlib.sha256(str(\"원본 텍스트\").encode()).hexdigest()"
   ]
  },
  {
   "cell_type": "code",
   "execution_count": 6,
   "metadata": {},
   "outputs": [
    {
     "data": {
      "text/plain": [
       "'03ac674216f3e15c761ee1a5e255f067953623c8b388b4459e13f978d7c846f4'"
      ]
     },
     "execution_count": 6,
     "metadata": {},
     "output_type": "execute_result"
    }
   ],
   "source": [
    "import hashlib\n",
    "hashlib.sha256(str(\"1234\").encode()).hexdigest()"
   ]
  },
  {
   "cell_type": "code",
   "execution_count": 11,
   "metadata": {},
   "outputs": [
    {
     "data": {
      "text/plain": [
       "'d93889de57bff13ffb490e2aa01005d3f0dde776db772410b79ff9486038b2e1'"
      ]
     },
     "execution_count": 11,
     "metadata": {},
     "output_type": "execute_result"
    }
   ],
   "source": [
    "import hashlib\n",
    "hashlib.sha256(str(\"\"\"\"동해 물과 백두산이 마르고 닳도록\n",
    "                     하느님이 보우하사 우리나라 만세.\n",
    "                     무궁화 삼천리 화려 강산\n",
    "                     대한 사람, 대한으로 길이 보전하세.\"\"\").encode()).hexdigest()"
   ]
  },
  {
   "cell_type": "code",
   "execution_count": 12,
   "metadata": {},
   "outputs": [
    {
     "data": {
      "text/plain": [
       "'94a6771df8c6866a45d404598f230766a8faae53e7bd579eff9e5bdbe20b170a'"
      ]
     },
     "execution_count": 12,
     "metadata": {},
     "output_type": "execute_result"
    }
   ],
   "source": [
    "import hashlib\n",
    "hashlib.sha256(str(\"원본 텍스트\").encode()).hexdigest()"
   ]
  },
  {
   "cell_type": "markdown",
   "metadata": {},
   "source": [
    "## [코드 1-3-2] 암호해시를 활용하여 만든 블록체인"
   ]
  },
  {
   "cell_type": "code",
   "execution_count": 19,
   "metadata": {},
   "outputs": [
    {
     "name": "stdout",
     "output_type": "stream",
     "text": [
      "{'INDEX': 6, '판매자': '최용수', '구매자': '강영희', '개수': '3개', '시간': '1990-01-06 02:03:04', 'previous_block': {'INDEX': 5, '판매자': '이미래', '구매자': '최용수', '개수': '3개', '시간': '1990-01-05 02:03:04', 'previous_block': {'INDEX': 4, '판매자': '박명수', '구매자': '이미래', '개수': '3개', '시간': '1990-01-04 02:03:04', 'previous_block': {'INDEX': 3, '판매자': '김영수', '구매자': '박명수', '개수': '3개', '시간': '1990-01-03 02:03:04', 'previous_block': {'INDEX': 1, '판매자': '김민수', '구매자': '김영수', '개수': '3개', '시간': '1990-01-02 01:02:03', 'previous_block': {'INDEX': 0, '판매자': '파이썬', '구매자': '김민수', '개수': '3개', '시간': '1990-01-01 00:00:00', 'previous_block': None}}}}}}\n",
      "{'INDEX': 1, '판매자': '김민수', '구매자': '김영수', '개수': '3개', '시간': '1990-01-02 01:02:03', 'previous_block': '5bb813d0e4e5f5bc1da255caac29b6825c64a26c5327e517ef2d2f560f62c0f2'}\n"
     ]
    }
   ],
   "source": [
    "## 변경 전 블록6\n",
    "block6 =  {'INDEX':6,\n",
    "            '판매자' : '최용수',\n",
    "            '구매자' : '강영희',\n",
    "            '개수' : '3개',\n",
    "            '시간' : '1990-01-06 02:03:04',\n",
    "           'previous_block' : block5\n",
    "          }\n",
    "print(block6 )\n",
    "\n",
    "## 변경 후 블록6\n",
    "block6 =  {'INDEX':1,\n",
    "            '판매자' : '김민수',\n",
    "            '구매자' : '김영수',\n",
    "            '개수' : '3개',\n",
    "            '시간' : '1990-01-02 01:02:03',\n",
    "           'previous_block' : hashlib.sha256(str(block5).encode()).hexdigest()\n",
    "          }\n",
    "print(block6 )"
   ]
  },
  {
   "cell_type": "markdown",
   "metadata": {},
   "source": [
    "# Chp1.4_블록체인의 구성요소"
   ]
  },
  {
   "cell_type": "markdown",
   "metadata": {},
   "source": [
    "## [코드 1-4-1] 블록들의 연결"
   ]
  },
  {
   "cell_type": "code",
   "execution_count": 20,
   "metadata": {},
   "outputs": [
    {
     "data": {
      "text/plain": [
       "{'header': {'블록의 생성 번호': 0,\n",
       "  '블록의 생성 시간': '2024-08-18 &H:23:54',\n",
       "  '블록의 채굴자': '0xea674fdde714fd979de3edf0f56aa9716b898ec8',\n",
       "  '블록 채굴자의 보상 값': 2.132,\n",
       "  '블록 채굴 난이도': 12382889997310022,\n",
       "  'Nonce': '0x7ccf42b8e05d031f',\n",
       "  '블록 사이즈': '178556 bytes',\n",
       "  '이전 블록의 해시값': '0xe1f3d0e83542e20735d453006cc6d8975920e7aec951c3b974eade52901e97e7',\n",
       "  '이번 블록 몸통 내역의 해시값': '63d15b775100ee6041c51f515c06bb1e5f0b296b99fbd3e3c9f25dfc2a43e042'},\n",
       " 'transaction': {'거래내역1': {'판매자': '파이썬',\n",
       "   '구매자': '김민수',\n",
       "   '개수': '3개',\n",
       "   '거래시간': '1990년 1월 1일 00시 00분 00초',\n",
       "   '거래수수료': '0.001개'},\n",
       "  '거래내역2': {'판매자': '감민수',\n",
       "   '구매자': '김영수',\n",
       "   '개수': '3개',\n",
       "   '거래시간': '1990년 1월 2일 01시 02분 03초',\n",
       "   '거래수수료': '0.001개'}}}"
      ]
     },
     "execution_count": 20,
     "metadata": {},
     "output_type": "execute_result"
    }
   ],
   "source": [
    "import datetime\n",
    "import hashlib\n",
    "\n",
    "block_body = { \"거래내역1\" : {\n",
    "                        '판매자': '파이썬',\n",
    "                        '구매자': '김민수',\n",
    "                        '개수': '3개',\n",
    "                        '거래시간': '1990년 1월 1일 00시 00분 00초',\n",
    "                        '거래수수료' : '0.001개'\n",
    "                        },\n",
    "              \"거래내역2\": {\n",
    "                        '판매자': '감민수',\n",
    "                        '구매자': '김영수',\n",
    "                        '개수': '3개',\n",
    "                        '거래시간': '1990년 1월 2일 01시 02분 03초',\n",
    "                        '거래수수료' : '0.001개'\n",
    "                        }\n",
    "            }\n",
    "\n",
    "block_header = {'블록의 생성 번호': 0,\n",
    "                '블록의 생성 시간': datetime.datetime.now().strftime(\"%Y-%m-%d &H:%M:%S\"),\n",
    "                '블록의 채굴자':\"0xea674fdde714fd979de3edf0f56aa9716b898ec8\",\n",
    "                '블록 채굴자의 보상 값':2.132,\n",
    "                '블록 채굴 난이도': 12382889997310022,\n",
    "                'Nonce'  : '0x7ccf42b8e05d031f',\n",
    "                '블록 사이즈' : '178556 bytes',\n",
    "                '이전 블록의 해시값' : '0xe1f3d0e83542e20735d453006cc6d8975920e7aec951c3b974eade52901e97e7',\n",
    "                '이번 블록 몸통 내역의 해시값': hashlib.sha256(str(block_body).encode()).hexdigest()\n",
    "                }\n",
    "\n",
    "body_hash = hashlib.sha256(str(block_body).encode()).hexdigest()\n",
    "\n",
    "block1 = {'header' : block_header,\n",
    "          'transaction' : block_body}\n",
    "\n",
    "block1"
   ]
  },
  {
   "cell_type": "markdown",
   "metadata": {},
   "source": [
    "# Chp1.5_블록체인의 채굴"
   ]
  },
  {
   "cell_type": "markdown",
   "metadata": {},
   "source": [
    "## [코드 1-5-1] 채굴"
   ]
  },
  {
   "cell_type": "code",
   "execution_count": 3,
   "metadata": {},
   "outputs": [
    {
     "name": "stdout",
     "output_type": "stream",
     "text": [
      "0 U0 e9ce32cbc936a51dc3c9242425fc45865c24953ec85a8ebba06d69629e384af3\n",
      "1 U1 316ca0efda6296d8f2c11d1e20890d220cec4266a0c16fbbef324c004688468a\n",
      "2 U2 325a90f389d8331f6ccd8da8b14844423eeff4ba736c5c03d2d034e64ad63a3d\n",
      "3 U3 101de8b737d2a9bf01633c95ce6e77bbd492bf3de84a9f4a593bb6e2c2efc510\n",
      "4 U4 d6ba6fe2fc118865c966f4f6df42cdec2139cf709a411e2e273f921ddedad556\n",
      "5 U5 da34151d9ba2e5894be2fc39ca4c4daf7af4912cf2e02fb1c8bd1b4e548f3c80\n",
      "6 U6 f0b4d52fb5728514c70d61e39e46cde57fd774215f4f0cd7d90bbb653ee982b9\n",
      "7 U7 3aca9c57470bdcda1f32dc391ea8a03010d794ff641cbd3f23480e14591ab07e\n",
      "8 U8 3473d38a1241db81b881aef4af3d7f0886c3f0a832e8c1a27fe8e6b86d72fe6d\n",
      "9 U9 c5f6f2a26eb214d7e75ba79de8f50a862138ed5b6c1ffd071b2613bb94b482a6\n",
      "10 U10 fc763b722e020f1c2dbaf46bb67e8f5c234f7b1877afe146c128d6f7a542cc48\n",
      "11 U11 1966758d720b8788eb94bf33137f87d345ea72da4f418ca8beb82d3f2116ca3c\n",
      "12 U12 439346fce670b190e905654cca1c0525a70ad09d2e927a60863388c901307547\n",
      "13 U13 b406afe12f14a66cb90d0cf4061a69f60eb38583d332d803939b4fde793e3862\n",
      "14 U14 c90a23ce28c1feb1104c7327f7b9486ac26f9cc6bb244fc6295ce8fd772c366d\n",
      "15 U15 e838eaf18357405e0a4aa033c30156a5387e194b285076b05491046b98d01f62\n",
      "16 U16 ef09bc80cd6261f269cd33ed38a16e26bb2ee43a20b66b18c5e509118fa08e4e\n",
      "17 U17 f5d888d53f05e0856c7e678008566a6454ebfd4cb9bdca4e6b8519b4ac92fabd\n",
      "18 U18 0d68d237586f76623ab6a9d3f4d357da3efd0e18256aa765c5f7af8c9b035503\n",
      "19 U19 b025a395f70b03507e696d60da43b49f84d2a17ce84bd48f2b08946876ed126e\n",
      "20 U20 9e659965b8ae94136b0755890cc46775383dc09e4708b3eac041ec94882cdba0\n",
      "21 U21 03287e5d6d503c94b8606fa08ca21ced78aed9c86e2a8bb582603f459d817174\n",
      "22 U22 33773669ca45fd2d3b14453e1eef081657352a7f6168dc113ffc3b1762a6483f\n",
      "23 U23 fc83d01285f1b1dcb4b0f19d28c992a0b45686efa756efa5ec250ea848ec8f2e\n",
      "24 U24 4740dbf585cb9292a54636ba101669cd96dfd067086cfc2527a2e0ba59331e4d\n",
      "25 U25 925d3690b225ada888235b1a86e1e9ccf56f35acfbc412673df642018d5a23ed\n",
      "26 U26 6e9c95de056319a76d7acd7a90d4aea25bcea3e1a3b1fbdb50351eeeacc3941b\n",
      "27 U27 ab4ebb4240a546036bc71e9c3a564e726237f8ed09ca59f3a5f342b2e72f139d\n"
     ]
    }
   ],
   "source": [
    "import random\n",
    "import string\n",
    "import hashlib\n",
    "\n",
    "## 이더리움 네트워크가 낸 문제\n",
    "PROBLEM_WORD = \"a\"  #찾아야 하는 단어\n",
    "PROBLEM_DIFFICULTY = 1  # 난이도 숫자, 숫자가 높아질수록 난이도가 높아짐\n",
    "### 위의 문제의 경우 해시의 값 앞 1번째 자리가 a이면 문제 해결(채굴 완료)\n",
    "\n",
    "## 채굴\n",
    "start_nonce = random.choice(string.ascii_letters)\n",
    "\n",
    "i = 0\n",
    "while True:\n",
    "    nonce = start_nonce + str(i)\n",
    "    nonce_result = hashlib.sha256((nonce).encode()).hexdigest()\n",
    "    print(i, nonce, nonce_result)\n",
    "    if nonce_result[0: PROBLEM_DIFFICULTY] == PROBLEM_WORD * PROBLEM_DIFFICULTY :\n",
    "        nonce = nonce_result\n",
    "        break\n",
    "    i+=1"
   ]
  },
  {
   "cell_type": "markdown",
   "metadata": {},
   "source": [
    "# Chp1.6_비트코인 vs 이더리움 : 스마트 컨트랙트"
   ]
  },
  {
   "cell_type": "markdown",
   "metadata": {},
   "source": [
    "## [코드 1-6-1] 비트코인의 구조"
   ]
  },
  {
   "cell_type": "code",
   "execution_count": 4,
   "metadata": {},
   "outputs": [
    {
     "data": {
      "text/plain": [
       "{'header': {'Block_height': 0,\n",
       "  'Block_created_at': '2024-08-22 13:38:14',\n",
       "  'Miner': '0xea674fdde714fd979de3edf0f56aa9716b898ec8',\n",
       "  'Block_Reward': 2.132,\n",
       "  'Difficulty': 12382889997310022,\n",
       "  'Nonce': '0x7ccf42b8e05d031f',\n",
       "  'Block_size': '178556 bytes',\n",
       "  'Parent_hash': '0xe1f3d0e83542e20735d453006cc6d8975920e7aec951c3b974eade52901e97e7',\n",
       "  'Body_hash': 'd1319c1a9f28ca7c4efede7c125e37abb8d686590956dbe202b52af0f57a31df'},\n",
       " 'transaction': {'transaction1': {'판매자': '파이썬',\n",
       "   '구매자': '김민수',\n",
       "   '개수': '3개',\n",
       "   'timestamp': 1652247422892844},\n",
       "  'transaction2': {'판매자': '파이썬',\n",
       "   '구매자': '이영호',\n",
       "   '개수': '3개',\n",
       "   'timestamp': 165224743233231}}}"
      ]
     },
     "execution_count": 4,
     "metadata": {},
     "output_type": "execute_result"
    }
   ],
   "source": [
    "## 스마트 컨트랙트가 없는 블록체인의 블록 구조(비트코인)\n",
    "import datetime\n",
    "import hashlib\n",
    "\n",
    "block_body = { \"transaction1\" : {\n",
    "                            '판매자' : '파이썬',\n",
    "                            '구매자' : '김민수',\n",
    "                            '개수' : '3개',\n",
    "                            'timestamp' : 1652247422892844,\n",
    "                            },\n",
    "              \"transaction2\" : {\n",
    "                            '판매자' : '파이썬',\n",
    "                            '구매자' : '이영호',\n",
    "                            '개수' : '3개',\n",
    "                            'timestamp' : 165224743233231\n",
    "                            }\n",
    "              }\n",
    "\n",
    "block_header = { 'Block_height' : 0,\n",
    "                'Block_created_at' : datetime.datetime.now().strftime(\"%Y-%m-%d %H:%M:%S\"),\n",
    "                'Miner' : \"0xea674fdde714fd979de3edf0f56aa9716b898ec8\",\n",
    "                'Block_Reward' : 2.132,\n",
    "                'Difficulty' : 12382889997310022,\n",
    "                'Nonce'  : '0x7ccf42b8e05d031f',\n",
    "                'Block_size' : '178556 bytes',\n",
    "                'Parent_hash' : '0xe1f3d0e83542e20735d453006cc6d8975920e7aec951c3b974eade52901e97e7',\n",
    "                'Body_hash' : hashlib.sha256(str(block_body).encode()).hexdigest()\n",
    "                }\n",
    "\n",
    "body_hash = hashlib.sha256(str(block_body).encode()).hexdigest()\n",
    "\n",
    "block1 = {'header' : block_header,\n",
    "          'transaction' : block_body\n",
    "          }\n",
    "\n",
    "block1"
   ]
  },
  {
   "cell_type": "code",
   "execution_count": 5,
   "metadata": {},
   "outputs": [
    {
     "data": {
      "text/plain": [
       "{'header': {'Block_height': 0,\n",
       "  'Block_created_at': '2024-08-22 13:41:30',\n",
       "  'Miner': '0xea674fdde714fd979de3edf0f56aa9716b898ec8',\n",
       "  'Block_Reward': 2.132,\n",
       "  'Difficulty': 12382889997310022,\n",
       "  'Nonce': '0x7ccf42b8e05d031f',\n",
       "  'Block_size': '178556 bytes',\n",
       "  'Parent_hash': '0xe1f3d0e83542e20735d453006cc6d8975920e7aec951c3b974eade52901e97e7',\n",
       "  'Body_hash': '5c52d1a7822356dc34c0d5594a7ee04a0e8a0f294d4c98520c549bc7c5e70893'},\n",
       " 'transaction': {'transaction1': {'판매자': '파이썬',\n",
       "   '구매자': '김민수',\n",
       "   '개수': '3개',\n",
       "   'timestamp': 1652247422892844,\n",
       "   'smart_contract': {}},\n",
       "  'transaction2': {'판매자': '파이썬',\n",
       "   '구매자': '이영호',\n",
       "   '개수': '3개',\n",
       "   'timestamp': 165224743233231,\n",
       "   'smart_contract': {}}}}"
      ]
     },
     "execution_count": 5,
     "metadata": {},
     "output_type": "execute_result"
    }
   ],
   "source": [
    "## 스마트 컨트랙트가 있는 블록체인의 블록 구조(이더리움)\n",
    "import datetime\n",
    "import hashlib\n",
    "\n",
    "block_body = {\"transaction1\": {\n",
    "                        '판매자' : '파이썬',\n",
    "                        '구매자' : '김민수',\n",
    "                        '개수' : '3개',\n",
    "                        'timestamp' : 1652247422892844,\n",
    "                        'smart_contract' : {}\n",
    "                            },\n",
    "                \"transaction2\": {\n",
    "                        '판매자' : '파이썬',\n",
    "                        '구매자' : '이영호',\n",
    "                        '개수' : '3개',\n",
    "                        'timestamp' : 165224743233231,\n",
    "                        'smart_contract' : {}\n",
    "                            }\n",
    "                   }\n",
    "\n",
    "block_header = { 'Block_height' : 0,\n",
    "                'Block_created_at' : datetime.datetime.now().strftime(\"%Y-%m-%d %H:%M:%S\"),\n",
    "                'Miner' : \"0xea674fdde714fd979de3edf0f56aa9716b898ec8\",\n",
    "                'Block_Reward' : 2.132,\n",
    "                'Difficulty' : 12382889997310022,\n",
    "                'Nonce'  : '0x7ccf42b8e05d031f',\n",
    "                'Block_size' : '178556 bytes',\n",
    "                'Parent_hash' : '0xe1f3d0e83542e20735d453006cc6d8975920e7aec951c3b974eade52901e97e7',\n",
    "                'Body_hash' : hashlib.sha256(str(block_body).encode()).hexdigest()\n",
    "                }\n",
    "\n",
    "body_hash = hashlib.sha256(str(block_body).encode()).hexdigest()\n",
    "\n",
    "block1 = {'header' : block_header,\n",
    "          'transaction' : block_body\n",
    "          }\n",
    "\n",
    "block1"
   ]
  }
 ],
 "metadata": {
  "kernelspec": {
   "display_name": "Python 3",
   "language": "python",
   "name": "python3"
  },
  "language_info": {
   "codemirror_mode": {
    "name": "ipython",
    "version": 3
   },
   "file_extension": ".py",
   "mimetype": "text/x-python",
   "name": "python",
   "nbconvert_exporter": "python",
   "pygments_lexer": "ipython3",
   "version": "3.11.9"
  }
 },
 "nbformat": 4,
 "nbformat_minor": 2
}
