{
 "cells": [
  {
   "cell_type": "markdown",
   "metadata": {},
   "source": [
    "## 2.7 브라우저와 데이터 주고받기(API)"
   ]
  },
  {
   "cell_type": "markdown",
   "metadata": {},
   "source": [
    "### [코드 2-8-2] 로그인 화면의 홈페이지 실행하기"
   ]
  },
  {
   "cell_type": "code",
   "execution_count": 3,
   "metadata": {},
   "outputs": [
    {
     "name": "stdout",
     "output_type": "stream",
     "text": [
      " * Serving Flask app '__main__'\n",
      " * Debug mode: off\n"
     ]
    },
    {
     "name": "stderr",
     "output_type": "stream",
     "text": [
      "WARNING: This is a development server. Do not use it in a production deployment. Use a production WSGI server instead.\n",
      " * Running on http://127.0.0.1:5000\n",
      "Press CTRL+C to quit\n",
      "127.0.0.1 - - [13/Sep/2024 02:12:51] \"GET / HTTP/1.1\" 200 -\n",
      "127.0.0.1 - - [13/Sep/2024 02:12:55] \"GET /login HTTP/1.1\" 200 -\n",
      "127.0.0.1 - - [13/Sep/2024 02:12:56] \"POST /login HTTP/1.1\" 200 -\n",
      "127.0.0.1 - - [13/Sep/2024 02:12:56] \"POST /login HTTP/1.1\" 200 -\n"
     ]
    },
    {
     "name": "stdout",
     "output_type": "stream",
     "text": [
      "login 버튼을 누름\n",
      "login 버튼을 누름\n"
     ]
    },
    {
     "name": "stderr",
     "output_type": "stream",
     "text": [
      "127.0.0.1 - - [13/Sep/2024 02:12:57] \"POST /login HTTP/1.1\" 200 -\n",
      "127.0.0.1 - - [13/Sep/2024 02:12:57] \"POST /login HTTP/1.1\" 200 -\n"
     ]
    },
    {
     "name": "stdout",
     "output_type": "stream",
     "text": [
      "login 버튼을 누름\n",
      "login 버튼을 누름\n"
     ]
    },
    {
     "name": "stderr",
     "output_type": "stream",
     "text": [
      "127.0.0.1 - - [13/Sep/2024 02:12:57] \"POST /login HTTP/1.1\" 200 -\n",
      "127.0.0.1 - - [13/Sep/2024 02:12:57] \"POST /login HTTP/1.1\" 200 -\n"
     ]
    },
    {
     "name": "stdout",
     "output_type": "stream",
     "text": [
      "login 버튼을 누름\n",
      "login 버튼을 누름\n"
     ]
    },
    {
     "name": "stderr",
     "output_type": "stream",
     "text": [
      "127.0.0.1 - - [13/Sep/2024 02:12:57] \"POST /login HTTP/1.1\" 200 -\n"
     ]
    },
    {
     "name": "stdout",
     "output_type": "stream",
     "text": [
      "login 버튼을 누름\n"
     ]
    }
   ],
   "source": [
    "from flask import Flask\n",
    "from flask import render_template\n",
    "from flask import request\n",
    "\n",
    "app = Flask(__name__)\n",
    "\n",
    "@app.route('/')\n",
    "def index():\n",
    "    return \"Flask 웹사이트다!\"\n",
    "\n",
    "@app.route('/login', methods=['GET', 'POST'])\n",
    "def login():\n",
    "    ### 추가 부분!\n",
    "    if request.method == 'POST':\n",
    "        print(\"login 버튼을 누름\")\n",
    "    ### 여기까지 추가함\n",
    "\n",
    "    return render_template('login.html')\n",
    "\n",
    "app.run()"
   ]
  },
  {
   "cell_type": "markdown",
   "metadata": {},
   "source": [
    "### [코드 2-8-3] ID와 PW 입력 부분 추가"
   ]
  },
  {
   "cell_type": "code",
   "execution_count": 11,
   "metadata": {},
   "outputs": [
    {
     "name": "stdout",
     "output_type": "stream",
     "text": [
      " * Serving Flask app '__main__'\n",
      " * Debug mode: off\n"
     ]
    },
    {
     "name": "stderr",
     "output_type": "stream",
     "text": [
      "WARNING: This is a development server. Do not use it in a production deployment. Use a production WSGI server instead.\n",
      " * Running on http://127.0.0.1:5000\n",
      "Press CTRL+C to quit\n",
      "127.0.0.1 - - [13/Sep/2024 02:31:19] \"POST /login HTTP/1.1\" 200 -\n"
     ]
    },
    {
     "name": "stderr",
     "output_type": "stream",
     "text": [
      "127.0.0.1 - - [13/Sep/2024 02:31:16] \"GET /login HTTP/1.1\" 200 -\n"
     ]
    },
    {
     "name": "stdout",
     "output_type": "stream",
     "text": [
      "{'wallet_id': ['hihihi'], 'password': ['hihihi']}\n"
     ]
    }
   ],
   "source": [
    "from flask import Flask\n",
    "from flask import render_template\n",
    "from flask import request\n",
    "\n",
    "app = Flask(__name__)\n",
    "\n",
    "@app.route('/')\n",
    "def index():\n",
    "    return \"Flask 웹사이트다!\"\n",
    "\n",
    "@app.route('/login', methods=['GET', 'POST'])\n",
    "def login():\n",
    "    ### 추가 부분!\n",
    "    input_value = request.form.to_dict(flat=False)\n",
    "    print(input_value)\n",
    "    ### 여기까지 추가함\n",
    "\n",
    "    return render_template('login.html')\n",
    "\n",
    "app.run()"
   ]
  },
  {
   "cell_type": "markdown",
   "metadata": {},
   "source": [
    "### [코드 2-8-4] 최종 구현 코드"
   ]
  },
  {
   "cell_type": "code",
   "execution_count": 12,
   "metadata": {},
   "outputs": [
    {
     "name": "stdout",
     "output_type": "stream",
     "text": [
      " * Serving Flask app '__main__'\n",
      " * Debug mode: off\n"
     ]
    },
    {
     "name": "stderr",
     "output_type": "stream",
     "text": [
      "WARNING: This is a development server. Do not use it in a production deployment. Use a production WSGI server instead.\n",
      " * Running on http://127.0.0.1:5000\n",
      "Press CTRL+C to quit\n",
      "127.0.0.1 - - [13/Sep/2024 02:34:53] \"GET / HTTP/1.1\" 200 -\n",
      "127.0.0.1 - - [13/Sep/2024 02:34:55] \"GET /login HTTP/1.1\" 200 -\n",
      "127.0.0.1 - - [13/Sep/2024 02:35:01] \"POST /login HTTP/1.1\" 200 -\n"
     ]
    },
    {
     "name": "stdout",
     "output_type": "stream",
     "text": [
      "login 버튼을 누름\n",
      "{'wallet_id': ['ansusthf'], 'password': ['hihihi']}\n"
     ]
    },
    {
     "name": "stderr",
     "output_type": "stream",
     "text": [
      "127.0.0.1 - - [13/Sep/2024 02:35:10] \"POST /login HTTP/1.1\" 200 -\n"
     ]
    },
    {
     "name": "stdout",
     "output_type": "stream",
     "text": [
      "login 버튼을 누름\n",
      "{'wallet_id': ['Python'], 'password': ['Blockchain']}\n",
      "로그인성공\n"
     ]
    }
   ],
   "source": [
    "from flask import Flask\n",
    "from datetime import datetime\n",
    "from flask import render_template\n",
    "from flask import request\n",
    "import requests\n",
    "\n",
    "app = Flask(__name__)\n",
    "\n",
    "test_id = \"Python\"\n",
    "test_pw = \"Blockchain\"\n",
    "\n",
    "@app.route('/')\n",
    "def index():\n",
    "    return 'Flask 웹사이트다!'\n",
    "\n",
    "@app.route('/login', methods = ['GET', 'POST'])\n",
    "def login():\n",
    "    if request.method=='POST':\n",
    "        print(\"login 버튼을 누름\")\n",
    "        input_value=request.form.to_dict(flat=False)\n",
    "        print(input_value)\n",
    "        if(input_value['wallet_id'][0]==test_id) & (input_value['password'][0] == test_pw):\n",
    "            print('로그인성공')\n",
    "            return \"로그인성공!!!!!!\"\n",
    "        else:\n",
    "            return render_template('login.html')\n",
    "        \n",
    "    return render_template('login.html')\n",
    "\n",
    "app.run()"
   ]
  }
 ],
 "metadata": {
  "kernelspec": {
   "display_name": ".venv",
   "language": "python",
   "name": "python3"
  },
  "language_info": {
   "codemirror_mode": {
    "name": "ipython",
    "version": 3
   },
   "file_extension": ".py",
   "mimetype": "text/x-python",
   "name": "python",
   "nbconvert_exporter": "python",
   "pygments_lexer": "ipython3",
   "version": "3.12.4"
  }
 },
 "nbformat": 4,
 "nbformat_minor": 2
}
