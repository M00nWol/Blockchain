{
 "cells": [
  {
   "cell_type": "markdown",
   "metadata": {},
   "source": [
    "# 2.1 함수(Function)"
   ]
  },
  {
   "cell_type": "code",
   "execution_count": null,
   "metadata": {},
   "outputs": [],
   "source": [
    "def f(x):\n",
    "    return 2*x + 1"
   ]
  },
  {
   "cell_type": "code",
   "execution_count": null,
   "metadata": {},
   "outputs": [],
   "source": [
    "def f(seller_id, buyer_id):\n",
    "    return seller_id + \"-\"+buyer_id"
   ]
  },
  {
   "cell_type": "markdown",
   "metadata": {},
   "source": [
    "## [코드 2-2-1] 파이썬으로 구축하는 함수"
   ]
  },
  {
   "cell_type": "code",
   "execution_count": null,
   "metadata": {},
   "outputs": [],
   "source": [
    "import json, hashlib\n",
    "\n",
    "## 블록 해시 함수\n",
    "def hash(block):\n",
    "    # Hashes a Block\n",
    "    block_string = json.dumps(block, sort_keys=True).encode()\n",
    "    # hash 라이브러리로 sha256 사용\n",
    "    return hashlib.sha256(block_string).hexdigest()\n",
    "\n",
    "\n",
    "    \n",
    "## 거래 내역 저장함수\n",
    "def new_transaction(self, sender, recipient, amount):\n",
    "    # Adds a new transaction to the list of transaction\n",
    "    self.current_transaction.append(\n",
    "        {\n",
    "            'sender' : sender, # 송신자\n",
    "            'recipient': recipient, # 수신자\n",
    "            'amount' : amount, # 금액\n",
    "            'timestamp': time()\n",
    "        }\n",
    "    )\n",
    "    \n",
    "## 채굴 함수\n",
    "def mine():\n",
    "    last_block = blockchain.last_block\n",
    "    last_proof = last_block['proof']\n",
    "    \n",
    "    # 여기가 진정한 채굴 단계\n",
    "    proof = blockchain.pow(last_proof)  \n",
    "    \n",
    "    blockchain.new_function(\n",
    "        sender = mine_owner, # 채굴 시 생성되는 transacrion (0 = 운영자)\n",
    "        recipient = node_identifier, # 지갑 주소처럼 사용\n",
    "        amount = mine_profit # coinbase transaction 코인 1개를 줄게!\n",
    "    )\n",
    "\n",
    "## 등록된 노드들을 함께 업데이트\n",
    "    for node in blockchain.nodes:\n",
    "        \n",
    "        headers = {'Content-Type' : 'application/json; charset=utf-8'}\n",
    "        data = {\n",
    "            \"sender\": mine_owner,\n",
    "            \"recipient\": node_identifier,\n",
    "            \"amount\": mine_profit\n",
    "        }\n",
    "        requests.post(\"http://\" + node + \"/transactions/new\", headers = headers, data=json.dumps(data))\n",
    "        \n",
    "    # Forge the new Blcok by adding it to the chain\n",
    "    # 전 블록에 대한 hash를 떠 놓고\n",
    "    previous_hash = blockchain.hash(last_block)\n",
    "    # 검증하는 걸 넣어서 블록을 새로 생성\n",
    "    print(\"MINING STARTED\")\n",
    "    block = blockchain.new_block(proof, previous_hash)\n",
    "    print(\"MINING FINISHED\")\n",
    "    \n",
    "    \n",
    "    ## 채굴 성공 후 동료 노드들에게 새로운 블록 정보를 업데이트\n",
    "    ## 그렇게 검증도 받아야 하고\n",
    "    ###############\n",
    "    for node in blockchain.nodes:\n",
    "        headers = {'Content-Type' : 'application/json; charset=utf-8'}\n",
    "        data = {\n",
    "            \"miner_node\" : 'http://' + my_ip + \":\" + my_port,\n",
    "        }\n",
    "        \n",
    "        a = requests.get(\"http://\" + node + \"/nodes/resolve\",  data = json.dumps(data))\n",
    "        # print(a.text)\n",
    "    \n",
    "    # 이상이 없으면 정상배출\n",
    "    if \"ERROR\" not in a.text :\n",
    "        print(\"다른 노드가 내 블록 검증 결과, 정상!!!!!\")\n",
    "        # block이 제대로 mine 되었다는 정보를 json 형태로 띄워줌\n",
    "        response = {\n",
    "            'message' : 'new block found',\n",
    "            'index' : block['index'],\n",
    "            'transactions' : block['transactions'],\n",
    "            'proof' : block['proof'],\n",
    "            'previous_hash' : block['previous_hash']\n",
    "        }\n",
    "        \n",
    "    # 이상 발생시\n",
    "    else:\n",
    "        1==1\n",
    "        print(\"다른 노드가 내블록 검증, 에러 발생!!!!!\")\n",
    "        # 문제가 있음 전파\n",
    "    \n",
    "    return jsonify(response), 200\n",
    "        "
   ]
  },
  {
   "cell_type": "code",
   "execution_count": null,
   "metadata": {},
   "outputs": [],
   "source": []
  }
 ],
 "metadata": {
  "language_info": {
   "name": "python"
  }
 },
 "nbformat": 4,
 "nbformat_minor": 2
}
