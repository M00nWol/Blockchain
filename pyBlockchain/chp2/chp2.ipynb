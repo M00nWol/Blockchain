{
 "cells": [
  {
   "cell_type": "markdown",
   "metadata": {},
   "source": [
    "# 2.2 함수(Function)"
   ]
  },
  {
   "cell_type": "code",
   "execution_count": null,
   "metadata": {},
   "outputs": [],
   "source": [
    "def f(x):\n",
    "    return 2*x + 2"
   ]
  },
  {
   "cell_type": "code",
   "execution_count": null,
   "metadata": {},
   "outputs": [],
   "source": [
    "def f(seller_id, buyer_id):\n",
    "    return seller_id + \"-\"+buyer_id"
   ]
  },
  {
   "cell_type": "markdown",
   "metadata": {},
   "source": [
    "## [코드 2-2-1] 파이썬으로 구축하는 함수"
   ]
  },
  {
   "cell_type": "code",
   "execution_count": null,
   "metadata": {},
   "outputs": [],
   "source": [
    "import json, hashlib\n",
    "\n",
    "## 블록 해시 함수\n",
    "def hash(block):\n",
    "    # Hashes a Block\n",
    "    block_string = json.dumps(block, sort_keys=True).encode()\n",
    "    # hash 라이브러리로 sha256 사용\n",
    "    return hashlib.sha256(block_string).hexdigest()\n",
    "\n",
    "\n",
    "    \n",
    "## 거래 내역 저장함수\n",
    "def new_transaction(self, sender, recipient, amount):\n",
    "    # Adds a new transaction to the list of transaction\n",
    "    self.current_transaction.append(\n",
    "        {\n",
    "            'sender' : sender, # 송신자\n",
    "            'recipient': recipient, # 수신자\n",
    "            'amount' : amount, # 금액\n",
    "            'timestamp': time()\n",
    "        }\n",
    "    )\n",
    "    \n",
    "## 채굴 함수\n",
    "def mine():\n",
    "    last_block = blockchain.last_block\n",
    "    last_proof = last_block['proof']\n",
    "    \n",
    "    # 여기가 진정한 채굴 단계\n",
    "    proof = blockchain.pow(last_proof)  \n",
    "    \n",
    "    blockchain.new_function(\n",
    "        sender = mine_owner, # 채굴 시 생성되는 transacrion (0 = 운영자)\n",
    "        recipient = node_identifier, # 지갑 주소처럼 사용\n",
    "        amount = mine_profit # coinbase transaction 코인 1개를 줄게!\n",
    "    )\n",
    "\n",
    "## 등록된 노드들을 함께 업데이트\n",
    "    for node in blockchain.nodes:\n",
    "        \n",
    "        headers = {'Content-Type' : 'application/json; charset=utf-8'}\n",
    "        data = {\n",
    "            \"sender\": mine_owner,\n",
    "            \"recipient\": node_identifier,\n",
    "            \"amount\": mine_profit\n",
    "        }\n",
    "        requests.post(\"http://\" + node + \"/transactions/new\", headers = headers, data=json.dumps(data))\n",
    "        \n",
    "    # Forge the new Blcok by adding it to the chain\n",
    "    # 전 블록에 대한 hash를 떠 놓고\n",
    "    previous_hash = blockchain.hash(last_block)\n",
    "    # 검증하는 걸 넣어서 블록을 새로 생성\n",
    "    print(\"MINING STARTED\")\n",
    "    block = blockchain.new_block(proof, previous_hash)\n",
    "    print(\"MINING FINISHED\")\n",
    "    \n",
    "    \n",
    "    ## 채굴 성공 후 동료 노드들에게 새로운 블록 정보를 업데이트\n",
    "    ## 그렇게 검증도 받아야 하고\n",
    "    ###############\n",
    "    for node in blockchain.nodes:\n",
    "        headers = {'Content-Type' : 'application/json; charset=utf-8'}\n",
    "        data = {\n",
    "            \"miner_node\" : 'http://' + my_ip + \":\" + my_port,\n",
    "        }\n",
    "        \n",
    "        a = requests.get(\"http://\" + node + \"/nodes/resolve\",  data = json.dumps(data))\n",
    "        # print(a.text)\n",
    "    \n",
    "    # 이상이 없으면 정상배출\n",
    "    if \"ERROR\" not in a.text :\n",
    "        print(\"다른 노드가 내 블록 검증 결과, 정상!!!!!\")\n",
    "        # block이 제대로 mine 되었다는 정보를 json 형태로 띄워줌\n",
    "        response = {\n",
    "            'message' : 'new block found',\n",
    "            'index' : block['index'],\n",
    "            'transactions' : block['transactions'],\n",
    "            'proof' : block['proof'],\n",
    "            'previous_hash' : block['previous_hash']\n",
    "        }\n",
    "        \n",
    "    # 이상 발생시\n",
    "    else:\n",
    "        1==1\n",
    "        print(\"다른 노드가 내블록 검증, 에러 발생!!!!!\")\n",
    "        # 문제가 있음 전파\n",
    "    \n",
    "    return jsonify(response), 200\n",
    "        "
   ]
  },
  {
   "cell_type": "markdown",
   "metadata": {},
   "source": [
    "# 2.3 객체(Object)"
   ]
  },
  {
   "cell_type": "markdown",
   "metadata": {},
   "source": [
    "## [코드 2-3-1] 파이썬 객체로 선언하는 포유류"
   ]
  },
  {
   "cell_type": "code",
   "execution_count": 3,
   "metadata": {},
   "outputs": [],
   "source": [
    "## 포유류 객체를 선언\n",
    "class mammals(object):\n",
    "    ## 포유류의 형태적 특징\n",
    "    def __init__(self):\n",
    "        self.number_of_legs = 4 # 다리가 4개\n",
    "        self.number_of_mouth = 1 # 입이 1개\n",
    "        self.number_of_ears = 2 # 귀가 2개\n",
    "        self.gender = \"MALE\" # 남성 (혹은 \"FEMALE\")\n",
    "        \n",
    "    ## 포유류의 습성 : 잔다\n",
    "    def sleep(self, sleeping_time):\n",
    "        time.sleep(sleeping_time) ## sleeping_time만큼 움직이지 않고 잔다\n",
    "        \n",
    "    ## 포유류의 습성 : 먹는다\n",
    "    def eat(self, food):\n",
    "        digest(food)\n",
    "    \n",
    "    ## 포유류의 습성 : 소화시킨다\n",
    "    def digest(self, food):\n",
    "        food = food / 2 # 음식을 반으로 나눈다\n",
    "    \n",
    "    ## 포유류의 습성 : 배변한다\n",
    "    def dump(self, food):\n",
    "        food = 0 # 음식이 다 나가고 0이 된다"
   ]
  },
  {
   "cell_type": "markdown",
   "metadata": {},
   "source": [
    "## [코드 2-3-2] 포유류에 속하는 동물 선언"
   ]
  },
  {
   "cell_type": "code",
   "execution_count": 6,
   "metadata": {},
   "outputs": [
    {
     "name": "stdout",
     "output_type": "stream",
     "text": [
      "4\n",
      "4\n"
     ]
    }
   ],
   "source": [
    "## 포유류 객체를 활용하여 강아지를 선언\n",
    "dog = mammals()\n",
    "\n",
    "## 포유류 객체를 활용하여 고양이를 선언\n",
    "cat = mammals()\n",
    "\n",
    "## 포유류 객체를 활용하여 소를 선언\n",
    "cow = mammals()\n",
    "\n",
    "## 강아지의 다리 개수 확인하기 \n",
    "print(dog.number_of_legs)\n",
    "\n",
    "## 고양이의 다리 개수 확인하기\n",
    "print(cat.number_of_legs)"
   ]
  },
  {
   "cell_type": "markdown",
   "metadata": {},
   "source": [
    "## [코드 2-3-3] 객체 내부의 속성 변경"
   ]
  },
  {
   "cell_type": "code",
   "execution_count": 5,
   "metadata": {},
   "outputs": [
    {
     "name": "stdout",
     "output_type": "stream",
     "text": [
      "4\n",
      "3\n"
     ]
    }
   ],
   "source": [
    "## (기존) 강아지의 다리 개수 확인하기\n",
    "print(dog.number_of_legs)\n",
    "\n",
    "## 사고 발생 : 강아지의 다리가 3개가 됨\n",
    "dog.number_of_legs = 3\n",
    "\n",
    "# (사건 후) 강아지의 다리 개수 확인하기\n",
    "print(dog.number_of_legs)"
   ]
  },
  {
   "cell_type": "markdown",
   "metadata": {},
   "source": [
    "## [코드 2-3-4] 블록체인 객체의 정의"
   ]
  },
  {
   "cell_type": "code",
   "execution_count": 13,
   "metadata": {},
   "outputs": [],
   "source": [
    "import datetime\n",
    "\n",
    "## 블록체인이라는 객체 선언!\n",
    "class Blockchain(object):\n",
    "    ## 블록체인의 기본 특징 선언\n",
    "    def __init__(self):\n",
    "        self.chain = [] # 블록을 연결하는 체인. 처음에는 빈 리스트다!\n",
    "        self.current_transaction = [] # 블록 내에 기록되는 transaction. 처음에는 빈 리스트다\n",
    "        \n",
    "    # transaction이 추가된다. \n",
    "    def new_transaction(self, sender, recipient, amount):\n",
    "        # 거래 내역을 추가하기\n",
    "        ## 현재의 transaction 리스트에 송신자, 수신자 등의 거래 내역을 입력한다. \n",
    "        self.current_transaction.append(\n",
    "            {\n",
    "                'sender' : sender, # 송신자\n",
    "                'recipient' : recipient, # 수신자\n",
    "                'amount' : amount, # 금액\n",
    "                'timestamp' : datetime.datetime.now().timestamp() # 시간\n",
    "            }\n",
    "        )\n",
    "        return self.last_block['index'] + 1\n",
    "    \n",
    "    # 새로운 블록을 만드는 함수\n",
    "    def new_block(self, proof, previous_hash = None):\n",
    "        # 지금의 블록에 이어질 새로운 블록을 만든다. \n",
    "        block = {\n",
    "            'index' : len(self.chain) + 1, ## 지금까지의 체인의 숫자 + 1 = 새로운 블록의 인덱스\n",
    "            'timestamp' : datetime.datetime.now().timestamp(), # 지금 시간 넣기\n",
    "            'transactions' : self.current_transaction, ## 지금까지의 transaction을 넣기 \n",
    "        }\n",
    "        \n",
    "        self.current_transaction = [] # 새로 블록이 생겼으니 이제 transaction은 다시 초기화\n",
    "        self.chain.append(block)      # 기존 체인에 블록을 넣어 연결! 블록체인\n",
    "        return block\n",
    "    \n",
    "    @property\n",
    "    def last_block(self):\n",
    "        # 체인의 마지막 블록 가져오기\n",
    "        return self.chain[-1]"
   ]
  },
  {
   "cell_type": "markdown",
   "metadata": {},
   "source": [
    "## [코드 2-3-5] 블록체인 객체 선언하고 데이터 확인하기"
   ]
  },
  {
   "cell_type": "code",
   "execution_count": 18,
   "metadata": {},
   "outputs": [
    {
     "name": "stdout",
     "output_type": "stream",
     "text": [
      "{'index': 1, 'timestamp': 1725867354.719724, 'transactions': []}\n",
      "{'index': 2, 'timestamp': 1725867354.719724, 'transactions': []}\n",
      "[{'index': 1, 'timestamp': 1725867354.719724, 'transactions': []}, {'index': 2, 'timestamp': 1725867354.719724, 'transactions': []}]\n"
     ]
    },
    {
     "data": {
      "text/plain": [
       "[{'index': 1, 'timestamp': 1725867354.719724, 'transactions': []},\n",
       " {'index': 2, 'timestamp': 1725867354.719724, 'transactions': []},\n",
       " {'index': 3,\n",
       "  'timestamp': 1725867354.720722,\n",
       "  'transactions': [{'sender': '김민수',\n",
       "    'recipient': '박철수',\n",
       "    'amount': 10,\n",
       "    'timestamp': 1725867354.720722}]}]"
      ]
     },
     "execution_count": 18,
     "metadata": {},
     "output_type": "execute_result"
    }
   ],
   "source": [
    "## 블록체인 객체 선언하기\n",
    "sample_blockchain = Blockchain()\n",
    "\n",
    "print(sample_blockchain.new_block(proof=\"1\"))\n",
    "\n",
    "print(sample_blockchain.new_block(proof=\"1\"))\n",
    "\n",
    "print(sample_blockchain.chain)\n",
    "\n",
    "## 블록에 새로운 거래 내역 입력하기\n",
    "sample_blockchain.new_transaction(sender = \"김민수\", recipient = \"박철수\",amount = 10)\n",
    "\n",
    "## 블록에 새로운 블록 만들기\n",
    "sample_blockchain.new_block(proof=\"1\")\n",
    "\n",
    "sample_blockchain.chain"
   ]
  }
 ],
 "metadata": {
  "kernelspec": {
   "display_name": "Python 3",
   "language": "python",
   "name": "python3"
  },
  "language_info": {
   "codemirror_mode": {
    "name": "ipython",
    "version": 3
   },
   "file_extension": ".py",
   "mimetype": "text/x-python",
   "name": "python",
   "nbconvert_exporter": "python",
   "pygments_lexer": "ipython3",
   "version": "3.11.9"
  }
 },
 "nbformat": 4,
 "nbformat_minor": 2
}
